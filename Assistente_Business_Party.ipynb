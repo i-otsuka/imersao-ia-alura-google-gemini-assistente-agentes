{
  "nbformat": 4,
  "nbformat_minor": 0,
  "metadata": {
    "colab": {
      "provenance": [],
      "include_colab_link": true
    },
    "kernelspec": {
      "name": "python3",
      "display_name": "Python 3"
    },
    "language_info": {
      "name": "python"
    }
  },
  "cells": [
    {
      "cell_type": "markdown",
      "metadata": {
        "id": "view-in-github",
        "colab_type": "text"
      },
      "source": [
        "<a href=\"https://colab.research.google.com/github/i-otsuka/imersao-ia-alura-google-gemini-assistente-agentes/blob/main/Assistente_Business_Party.ipynb\" target=\"_parent\"><img src=\"https://colab.research.google.com/assets/colab-badge.svg\" alt=\"Open In Colab\"/></a>"
      ]
    },
    {
      "cell_type": "code",
      "source": [
        "%pip -q install google-genai"
      ],
      "metadata": {
        "id": "UCCbECexLk_h"
      },
      "execution_count": null,
      "outputs": []
    },
    {
      "cell_type": "code",
      "source": [
        "# Configura a API Key do Google Gemini\n",
        "\n",
        "import os\n",
        "from google.colab import userdata\n",
        "\n",
        "os.environ[\"GOOGLE_API_KEY\"] = userdata.get('GOOGLE_API_KEY')"
      ],
      "metadata": {
        "id": "NfCqHo1tLk8P"
      },
      "execution_count": null,
      "outputs": []
    },
    {
      "cell_type": "code",
      "source": [
        "# Configura o cliente da SDK do Gemini\n",
        "\n",
        "from google import genai\n",
        "\n",
        "client = genai.Client()\n",
        "\n",
        "MODEL_ID = \"gemini-2.0-flash\""
      ],
      "metadata": {
        "id": "bV4w0H5TLk5g"
      },
      "execution_count": null,
      "outputs": []
    },
    {
      "cell_type": "code",
      "source": [
        "# Pergunta ao Gemini uma informação mais recente que seu conhecimento\n",
        "\n",
        "from IPython.display import HTML, Markdown\n",
        "\n",
        "# Perguntar pro modelo quando é a próxima imersão de IA ###############################################\n",
        "resposta = client.models.generate_content(\n",
        "    model=MODEL_ID,\n",
        "    contents='Quando é a próxima Imersão IA com Google Gemini da Alura?',\n",
        ")\n",
        "\n",
        "# Exibe a resposta na tela\n",
        "display(Markdown(f\"Resposta:\\n {resposta.text}\"))"
      ],
      "metadata": {
        "id": "HwVP7Xi34Zuw",
        "colab": {
          "base_uri": "https://localhost:8080/",
          "height": 163
        },
        "outputId": "1f87e3a2-b9d4-400e-d3a3-304e95922d09"
      },
      "execution_count": null,
      "outputs": [
        {
          "output_type": "display_data",
          "data": {
            "text/plain": [
              "<IPython.core.display.Markdown object>"
            ],
            "text/markdown": "Resposta:\n A Alura ainda não anunciou uma nova edição da Imersão IA com Google Gemini. A última edição ocorreu em fevereiro de 2024.\n\nA melhor forma de ficar sabendo sobre futuras edições é:\n\n*   **Seguir a Alura nas redes sociais:** Eles costumam anunciar novidades por lá (LinkedIn, Instagram, etc.).\n*   **Assinar a newsletter da Alura:** Assim você recebe informações diretamente no seu e-mail.\n*   **Acompanhar o fórum da Alura:** A comunidade pode compartilhar informações sobre novos cursos e imersões.\n*   **Verificar a página de cursos de IA da Alura:** Fique de olho na página de cursos de Inteligência Artificial da Alura para ver se há alguma novidade ou previsão de novas turmas."
          },
          "metadata": {}
        }
      ]
    },
    {
      "cell_type": "code",
      "source": [
        "# Pergunta ao Gemini uma informação utilizando a busca do Google como contexto\n",
        "\n",
        "response = client.models.generate_content(\n",
        "    model=MODEL_ID,\n",
        "    contents='Quando é a próxima Imersão IA com Google Gemini da Alura?',\n",
        "    # Insere a tool de busca do Google ###############################################\n",
        "    config={\"tools\":[{\"google_search\": {}}]}\n",
        ")\n",
        "\n",
        "# Exibe a resposta na tela\n",
        "display(Markdown(f\"Resposta:\\n {response.text}\"))"
      ],
      "metadata": {
        "id": "yXaZd7iZ4ftw",
        "colab": {
          "base_uri": "https://localhost:8080/",
          "height": 81
        },
        "outputId": "ada50d53-ade8-499b-8467-0003b3835152"
      },
      "execution_count": null,
      "outputs": [
        {
          "output_type": "display_data",
          "data": {
            "text/plain": [
              "<IPython.core.display.Markdown object>"
            ],
            "text/markdown": "Resposta:\n A próxima Imersão IA com Google Gemini da Alura aconteceu entre os dias 12 e 16 de maio de 2025. As inscrições para o curso já estão abertas no site da Alura. O curso é gratuito, 100% online e voltado para profissionais de todas as áreas, sem exigir conhecimento prévio. Ao final da imersão, os participantes ganham um certificado da Alura e do Google.\n"
          },
          "metadata": {}
        }
      ]
    },
    {
      "cell_type": "code",
      "source": [
        "# Exibe a busca\n",
        "print(f\"Busca realizada: {response.candidates[0].grounding_metadata.web_search_queries}\")\n",
        "# Exibe as URLs nas quais ele se baseou\n",
        "print(f\"Páginas utilizadas na resposta: {', '.join([site.web.title for site in response.candidates[0].grounding_metadata.grounding_chunks])}\")\n",
        "print()\n",
        "display(HTML(response.candidates[0].grounding_metadata.search_entry_point.rendered_content))"
      ],
      "metadata": {
        "id": "xHSNlTd84heJ",
        "colab": {
          "base_uri": "https://localhost:8080/",
          "height": 117
        },
        "outputId": "a1404738-5cb2-449c-c0c5-ca62e49335a5"
      },
      "execution_count": null,
      "outputs": [
        {
          "output_type": "stream",
          "name": "stdout",
          "text": [
            "Busca realizada: ['Próxima imersão IA com Google Gemini Alura']\n",
            "Páginas utilizadas na resposta: starten.tech, alura.com.br, youtube.com\n",
            "\n"
          ]
        },
        {
          "output_type": "display_data",
          "data": {
            "text/plain": [
              "<IPython.core.display.HTML object>"
            ],
            "text/html": [
              "<style>\n",
              ".container {\n",
              "  align-items: center;\n",
              "  border-radius: 8px;\n",
              "  display: flex;\n",
              "  font-family: Google Sans, Roboto, sans-serif;\n",
              "  font-size: 14px;\n",
              "  line-height: 20px;\n",
              "  padding: 8px 12px;\n",
              "}\n",
              ".chip {\n",
              "  display: inline-block;\n",
              "  border: solid 1px;\n",
              "  border-radius: 16px;\n",
              "  min-width: 14px;\n",
              "  padding: 5px 16px;\n",
              "  text-align: center;\n",
              "  user-select: none;\n",
              "  margin: 0 8px;\n",
              "  -webkit-tap-highlight-color: transparent;\n",
              "}\n",
              ".carousel {\n",
              "  overflow: auto;\n",
              "  scrollbar-width: none;\n",
              "  white-space: nowrap;\n",
              "  margin-right: -12px;\n",
              "}\n",
              ".headline {\n",
              "  display: flex;\n",
              "  margin-right: 4px;\n",
              "}\n",
              ".gradient-container {\n",
              "  position: relative;\n",
              "}\n",
              ".gradient {\n",
              "  position: absolute;\n",
              "  transform: translate(3px, -9px);\n",
              "  height: 36px;\n",
              "  width: 9px;\n",
              "}\n",
              "@media (prefers-color-scheme: light) {\n",
              "  .container {\n",
              "    background-color: #fafafa;\n",
              "    box-shadow: 0 0 0 1px #0000000f;\n",
              "  }\n",
              "  .headline-label {\n",
              "    color: #1f1f1f;\n",
              "  }\n",
              "  .chip {\n",
              "    background-color: #ffffff;\n",
              "    border-color: #d2d2d2;\n",
              "    color: #5e5e5e;\n",
              "    text-decoration: none;\n",
              "  }\n",
              "  .chip:hover {\n",
              "    background-color: #f2f2f2;\n",
              "  }\n",
              "  .chip:focus {\n",
              "    background-color: #f2f2f2;\n",
              "  }\n",
              "  .chip:active {\n",
              "    background-color: #d8d8d8;\n",
              "    border-color: #b6b6b6;\n",
              "  }\n",
              "  .logo-dark {\n",
              "    display: none;\n",
              "  }\n",
              "  .gradient {\n",
              "    background: linear-gradient(90deg, #fafafa 15%, #fafafa00 100%);\n",
              "  }\n",
              "}\n",
              "@media (prefers-color-scheme: dark) {\n",
              "  .container {\n",
              "    background-color: #1f1f1f;\n",
              "    box-shadow: 0 0 0 1px #ffffff26;\n",
              "  }\n",
              "  .headline-label {\n",
              "    color: #fff;\n",
              "  }\n",
              "  .chip {\n",
              "    background-color: #2c2c2c;\n",
              "    border-color: #3c4043;\n",
              "    color: #fff;\n",
              "    text-decoration: none;\n",
              "  }\n",
              "  .chip:hover {\n",
              "    background-color: #353536;\n",
              "  }\n",
              "  .chip:focus {\n",
              "    background-color: #353536;\n",
              "  }\n",
              "  .chip:active {\n",
              "    background-color: #464849;\n",
              "    border-color: #53575b;\n",
              "  }\n",
              "  .logo-light {\n",
              "    display: none;\n",
              "  }\n",
              "  .gradient {\n",
              "    background: linear-gradient(90deg, #1f1f1f 15%, #1f1f1f00 100%);\n",
              "  }\n",
              "}\n",
              "</style>\n",
              "<div class=\"container\">\n",
              "  <div class=\"headline\">\n",
              "    <svg class=\"logo-light\" width=\"18\" height=\"18\" viewBox=\"9 9 35 35\" fill=\"none\" xmlns=\"http://www.w3.org/2000/svg\">\n",
              "      <path fill-rule=\"evenodd\" clip-rule=\"evenodd\" d=\"M42.8622 27.0064C42.8622 25.7839 42.7525 24.6084 42.5487 23.4799H26.3109V30.1568H35.5897C35.1821 32.3041 33.9596 34.1222 32.1258 35.3448V39.6864H37.7213C40.9814 36.677 42.8622 32.2571 42.8622 27.0064V27.0064Z\" fill=\"#4285F4\"/>\n",
              "      <path fill-rule=\"evenodd\" clip-rule=\"evenodd\" d=\"M26.3109 43.8555C30.9659 43.8555 34.8687 42.3195 37.7213 39.6863L32.1258 35.3447C30.5898 36.3792 28.6306 37.0061 26.3109 37.0061C21.8282 37.0061 18.0195 33.9811 16.6559 29.906H10.9194V34.3573C13.7563 39.9841 19.5712 43.8555 26.3109 43.8555V43.8555Z\" fill=\"#34A853\"/>\n",
              "      <path fill-rule=\"evenodd\" clip-rule=\"evenodd\" d=\"M16.6559 29.8904C16.3111 28.8559 16.1074 27.7588 16.1074 26.6146C16.1074 25.4704 16.3111 24.3733 16.6559 23.3388V18.8875H10.9194C9.74388 21.2072 9.06992 23.8247 9.06992 26.6146C9.06992 29.4045 9.74388 32.022 10.9194 34.3417L15.3864 30.8621L16.6559 29.8904V29.8904Z\" fill=\"#FBBC05\"/>\n",
              "      <path fill-rule=\"evenodd\" clip-rule=\"evenodd\" d=\"M26.3109 16.2386C28.85 16.2386 31.107 17.1164 32.9095 18.8091L37.8466 13.8719C34.853 11.082 30.9659 9.3736 26.3109 9.3736C19.5712 9.3736 13.7563 13.245 10.9194 18.8875L16.6559 23.3388C18.0195 19.2636 21.8282 16.2386 26.3109 16.2386V16.2386Z\" fill=\"#EA4335\"/>\n",
              "    </svg>\n",
              "    <svg class=\"logo-dark\" width=\"18\" height=\"18\" viewBox=\"0 0 48 48\" xmlns=\"http://www.w3.org/2000/svg\">\n",
              "      <circle cx=\"24\" cy=\"23\" fill=\"#FFF\" r=\"22\"/>\n",
              "      <path d=\"M33.76 34.26c2.75-2.56 4.49-6.37 4.49-11.26 0-.89-.08-1.84-.29-3H24.01v5.99h8.03c-.4 2.02-1.5 3.56-3.07 4.56v.75l3.91 2.97h.88z\" fill=\"#4285F4\"/>\n",
              "      <path d=\"M15.58 25.77A8.845 8.845 0 0 0 24 31.86c1.92 0 3.62-.46 4.97-1.31l4.79 3.71C31.14 36.7 27.65 38 24 38c-5.93 0-11.01-3.4-13.45-8.36l.17-1.01 4.06-2.85h.8z\" fill=\"#34A853\"/>\n",
              "      <path d=\"M15.59 20.21a8.864 8.864 0 0 0 0 5.58l-5.03 3.86c-.98-2-1.53-4.25-1.53-6.64 0-2.39.55-4.64 1.53-6.64l1-.22 3.81 2.98.22 1.08z\" fill=\"#FBBC05\"/>\n",
              "      <path d=\"M24 14.14c2.11 0 4.02.75 5.52 1.98l4.36-4.36C31.22 9.43 27.81 8 24 8c-5.93 0-11.01 3.4-13.45 8.36l5.03 3.85A8.86 8.86 0 0 1 24 14.14z\" fill=\"#EA4335\"/>\n",
              "    </svg>\n",
              "    <div class=\"gradient-container\"><div class=\"gradient\"></div></div>\n",
              "  </div>\n",
              "  <div class=\"carousel\">\n",
              "    <a class=\"chip\" href=\"https://vertexaisearch.cloud.google.com/grounding-api-redirect/AbF9wXHHzcszxgSTD94KiNYzUWjzg5eHVlJGiW2v6AoY4TumN6SqmhQ4-iM6T9P2yhJRrMRMyOF8yC8QsaY_8Tc7SRiKJ2p2FM5D2XjRjTTA8DzU0uVZ_TsfingONpVYB046yNz9-9-4nsNf9AR6B_LZfrAIMRZRr3wZ_KvJSFx4htajUpDfFmtt6ZNYXWqoER_2-ysVWJnXmqYen2D_AeP9VwXpJ2OwgwBHEaWm8kwfTVlN75TcVX25zmuE\">Próxima imersão IA com Google Gemini Alura</a>\n",
              "  </div>\n",
              "</div>\n"
            ]
          },
          "metadata": {}
        }
      ]
    },
    {
      "cell_type": "code",
      "source": [
        "# Instalar Framework ADK de agentes do Google ################################################\n",
        "!pip install -q google-adk"
      ],
      "metadata": {
        "id": "hvZ3UnPI4jhJ",
        "colab": {
          "base_uri": "https://localhost:8080/"
        },
        "outputId": "237559ea-87ce-4011-8cfb-2b39e2f971f3"
      },
      "execution_count": null,
      "outputs": [
        {
          "output_type": "stream",
          "name": "stdout",
          "text": [
            "\u001b[?25l   \u001b[90m━━━━━━━━━━━━━━━━━━━━━━━━━━━━━━━━━━━━━━━━\u001b[0m \u001b[32m0.0/1.2 MB\u001b[0m \u001b[31m?\u001b[0m eta \u001b[36m-:--:--\u001b[0m\r\u001b[2K   \u001b[91m━━━━━━━━━━━━━━━━\u001b[0m\u001b[90m╺\u001b[0m\u001b[90m━━━━━━━━━━━━━━━━━━━━━━━\u001b[0m \u001b[32m0.5/1.2 MB\u001b[0m \u001b[31m14.9 MB/s\u001b[0m eta \u001b[36m0:00:01\u001b[0m\r\u001b[2K   \u001b[90m━━━━━━━━━━━━━━━━━━━━━━━━━━━━━━━━━━━━━━━━\u001b[0m \u001b[32m1.2/1.2 MB\u001b[0m \u001b[31m18.1 MB/s\u001b[0m eta \u001b[36m0:00:00\u001b[0m\n",
            "\u001b[?25h\u001b[?25l   \u001b[90m━━━━━━━━━━━━━━━━━━━━━━━━━━━━━━━━━━━━━━━━\u001b[0m \u001b[32m0.0/232.1 kB\u001b[0m \u001b[31m?\u001b[0m eta \u001b[36m-:--:--\u001b[0m\r\u001b[2K   \u001b[90m━━━━━━━━━━━━━━━━━━━━━━━━━━━━━━━━━━━━━━━━\u001b[0m \u001b[32m232.1/232.1 kB\u001b[0m \u001b[31m13.5 MB/s\u001b[0m eta \u001b[36m0:00:00\u001b[0m\n",
            "\u001b[?25h\u001b[?25l   \u001b[90m━━━━━━━━━━━━━━━━━━━━━━━━━━━━━━━━━━━━━━━━\u001b[0m \u001b[32m0.0/95.2 kB\u001b[0m \u001b[31m?\u001b[0m eta \u001b[36m-:--:--\u001b[0m\r\u001b[2K   \u001b[90m━━━━━━━━━━━━━━━━━━━━━━━━━━━━━━━━━━━━━━━━\u001b[0m \u001b[32m95.2/95.2 kB\u001b[0m \u001b[31m6.2 MB/s\u001b[0m eta \u001b[36m0:00:00\u001b[0m\n",
            "\u001b[2K   \u001b[90m━━━━━━━━━━━━━━━━━━━━━━━━━━━━━━━━━━━━━━━━\u001b[0m \u001b[32m217.1/217.1 kB\u001b[0m \u001b[31m14.9 MB/s\u001b[0m eta \u001b[36m0:00:00\u001b[0m\n",
            "\u001b[2K   \u001b[90m━━━━━━━━━━━━━━━━━━━━━━━━━━━━━━━━━━━━━━━━\u001b[0m \u001b[32m334.1/334.1 kB\u001b[0m \u001b[31m19.2 MB/s\u001b[0m eta \u001b[36m0:00:00\u001b[0m\n",
            "\u001b[2K   \u001b[90m━━━━━━━━━━━━━━━━━━━━━━━━━━━━━━━━━━━━━━━━\u001b[0m \u001b[32m125.1/125.1 kB\u001b[0m \u001b[31m8.2 MB/s\u001b[0m eta \u001b[36m0:00:00\u001b[0m\n",
            "\u001b[2K   \u001b[90m━━━━━━━━━━━━━━━━━━━━━━━━━━━━━━━━━━━━━━━━\u001b[0m \u001b[32m65.8/65.8 kB\u001b[0m \u001b[31m4.2 MB/s\u001b[0m eta \u001b[36m0:00:00\u001b[0m\n",
            "\u001b[2K   \u001b[90m━━━━━━━━━━━━━━━━━━━━━━━━━━━━━━━━━━━━━━━━\u001b[0m \u001b[32m119.0/119.0 kB\u001b[0m \u001b[31m7.5 MB/s\u001b[0m eta \u001b[36m0:00:00\u001b[0m\n",
            "\u001b[2K   \u001b[90m━━━━━━━━━━━━━━━━━━━━━━━━━━━━━━━━━━━━━━━━\u001b[0m \u001b[32m194.9/194.9 kB\u001b[0m \u001b[31m11.1 MB/s\u001b[0m eta \u001b[36m0:00:00\u001b[0m\n",
            "\u001b[2K   \u001b[90m━━━━━━━━━━━━━━━━━━━━━━━━━━━━━━━━━━━━━━━━\u001b[0m \u001b[32m62.5/62.5 kB\u001b[0m \u001b[31m3.5 MB/s\u001b[0m eta \u001b[36m0:00:00\u001b[0m\n",
            "\u001b[2K   \u001b[90m━━━━━━━━━━━━━━━━━━━━━━━━━━━━━━━━━━━━━━━━\u001b[0m \u001b[32m103.3/103.3 kB\u001b[0m \u001b[31m6.2 MB/s\u001b[0m eta \u001b[36m0:00:00\u001b[0m\n",
            "\u001b[2K   \u001b[90m━━━━━━━━━━━━━━━━━━━━━━━━━━━━━━━━━━━━━━━━\u001b[0m \u001b[32m44.4/44.4 kB\u001b[0m \u001b[31m2.3 MB/s\u001b[0m eta \u001b[36m0:00:00\u001b[0m\n",
            "\u001b[2K   \u001b[90m━━━━━━━━━━━━━━━━━━━━━━━━━━━━━━━━━━━━━━━━\u001b[0m \u001b[32m72.0/72.0 kB\u001b[0m \u001b[31m4.6 MB/s\u001b[0m eta \u001b[36m0:00:00\u001b[0m\n",
            "\u001b[?25h"
          ]
        }
      ]
    },
    {
      "cell_type": "code",
      "execution_count": null,
      "metadata": {
        "id": "aePV2bdfDeoW"
      },
      "outputs": [],
      "source": [
        "from google.adk.agents import Agent\n",
        "from google.adk.runners import Runner\n",
        "from google.adk.sessions import InMemorySessionService\n",
        "from google.adk.tools import google_search\n",
        "from google.genai import types  # Para criar conteúdos (Content e Part)\n",
        "from datetime import date\n",
        "import textwrap # Para formatar melhor a saída de texto\n",
        "from IPython.display import display, Markdown # Para exibir texto formatado no Colab\n",
        "import requests # Para fazer requisições HTTP\n",
        "import warnings\n",
        "\n",
        "warnings.filterwarnings(\"ignore\")"
      ]
    },
    {
      "cell_type": "code",
      "source": [
        "# Função auxiliar que envia uma mensagem para um agente via Runner e retorna a resposta final\n",
        "def call_agent(agent: Agent, message_text: str) -> str:\n",
        "    # Cria um serviço de sessão em memória\n",
        "    session_service = InMemorySessionService()\n",
        "    # Cria uma nova sessão (você pode personalizar os IDs conforme necessário)\n",
        "    session = session_service.create_session(app_name=agent.name, user_id=\"user1\", session_id=\"session1\")\n",
        "    # Cria um Runner para o agente\n",
        "    runner = Runner(agent=agent, app_name=agent.name, session_service=session_service)\n",
        "    # Cria o conteúdo da mensagem de entrada\n",
        "    content = types.Content(role=\"user\", parts=[types.Part(text=message_text)])\n",
        "\n",
        "    final_response = \"\"\n",
        "    # Itera assincronamente pelos eventos retornados durante a execução do agente\n",
        "    for event in runner.run(user_id=\"user1\", session_id=\"session1\", new_message=content):\n",
        "        if event.is_final_response():\n",
        "          for part in event.content.parts:\n",
        "            if part.text is not None:\n",
        "              final_response += part.text\n",
        "              final_response += \"\\n\"\n",
        "    return final_response"
      ],
      "metadata": {
        "id": "_xP4lWhsS5ko"
      },
      "execution_count": null,
      "outputs": []
    },
    {
      "cell_type": "code",
      "source": [
        "# Função auxiliar para exibir texto formatado em Markdown no Colab\n",
        "def to_markdown(text):\n",
        "  text = text.replace('•', '  *')\n",
        "  return Markdown(textwrap.indent(text, '> ', predicate=lambda _: True))"
      ],
      "metadata": {
        "id": "8dosiodaxfFR"
      },
      "execution_count": null,
      "outputs": []
    },
    {
      "cell_type": "code",
      "source": [
        "##################################\n",
        "# --- Agente 1: Brainstormer --- #\n",
        "##################################\n",
        "def agente_brainstormer(briefing):\n",
        "    brainstormer = Agent(\n",
        "        name=\"agente_brainstormer\",\n",
        "        model=\"gemini-2.0-flash\",\n",
        "        # Instruções do Agente de Brainstorming #################################################\n",
        "        instruction=\"\"\"\n",
        "          Haja como um time de brainstorming composto por diferentes perfis (O Pensador Criativo,\n",
        "          O Analista, O Executor, O Entusiasta, O Cético Construtivo, O Especialista). Você deve levantar ideias\n",
        "          de ações com base no briefing fornecido. O evento pode ser desde uma festa onde cada funcionário\n",
        "          pode trazer um item até uma festa épica em uma supercasa de eventos. Pode ter decorações temáticas,\n",
        "          convites especiais, impressos, banners, espaços instagramáveis, materiais de divulgação etc.,\n",
        "          desde que se adeque ao orçamento e requisitos fornecidos.  Você pode utilizar a ferramenta do Google (google_search)\n",
        "          para buscar informações sobre o tema pesquisar ideias, locais, fornecedores, brindes, materiais etc.\n",
        "          Ao final elenque as 5 melhores e mais criativas ideias de festa que podem servir ao tema proposto no briefing. Inclua o\n",
        "          slogan, as possíveis ações e atrações, ideias de materiais, brindes, peças de comunicação, decorações, alimentação etc.).\n",
        "        \"\"\",\n",
        "      description=\"Agente de brainstorming que gera ideias iniciais de eventos.\",\n",
        "      tools=[google_search]\n",
        "    )\n",
        "    entrada_do_agente_brainstorming = f\"Briefing:{briefing}\"\n",
        "    lista_de_ideias = call_agent(brainstormer, entrada_do_agente_brainstorming)\n",
        "    return lista_de_ideias"
      ],
      "metadata": {
        "id": "o8bqIfi_DyH8"
      },
      "execution_count": null,
      "outputs": []
    },
    {
      "cell_type": "code",
      "source": [
        "###########################################\n",
        "# --- Agente 2: Planejador de eventos --- #\n",
        "###########################################\n",
        "def agente_planejador(briefing, lista_de_ideias, data_de_hoje):\n",
        "    planejador = Agent(\n",
        "        name=\"agente_planejador\",\n",
        "        model=\"gemini-2.0-flash\",\n",
        "        # Inserir as instruções do Agente Planejador #################################################\n",
        "        instruction=\"\"\"\n",
        "          Você é um especialista em eventos dentro do time de comunicação interna e endomarketing da PaperCare.\n",
        "          Seu objetivo é analisar as ideias iniciais levantadas na etapa de brainstorming e organizar o evento: criar a programação,\n",
        "          levantar as peças de comunicação necessárias, levantar custos e elaborar o cronograma de execução (compra de itens,\n",
        "          produção das peças de comunicação, minuto a minuto do evento etc.). Você pode mesclar itens de duas ou mais ideias no\n",
        "          planejamento do evento. Lembre-se de considerar a data de hoje e a data do evento no planejamento. Utilize a pesquisa do\n",
        "          Google (google_search) para buscar informações complementares para refinar o planejamento. Você pode contar com os canais\n",
        "          de comunicação da empresa (e-mail, murais de avisos, fundo de telas, intranet e TVs) e com o time de comunicação que conta\n",
        "          com pessoas que podem apoiar com desenvolvimento das artes. Ao final, gere uma apresentação com a proposta do evento. Essa apresentação\n",
        "          deverá conter um resumo sobre o evento, trazer o tema e slogan, programação do evento, plano de comunicação, plano de execução\n",
        "          e custos(importante especificar os nomes dos itens, quantidades, valores unitários e valores totais). Essa apresentação servirá para aprovação do evento pela gestão da empresa e será utilizada como base para criação dos\n",
        "          textos e peças de comunicação pelo time de comunicação.\n",
        "        \"\"\",\n",
        "        description=\"Agente que planeja os eventos\",\n",
        "        tools=[google_search]\n",
        "    )\n",
        "\n",
        "    entrada_do_agente_planejador = f\"Briefing:{briefing}\\nLista de Ideias: {lista_de_ideias}\\nData de início do Planejamento:{data_de_hoje}\"\n",
        "    # Executa o agente\n",
        "    plano_do_evento = call_agent(planejador, entrada_do_agente_planejador)\n",
        "    return plano_do_evento"
      ],
      "metadata": {
        "id": "y3VO1uo5_ghO"
      },
      "execution_count": null,
      "outputs": []
    },
    {
      "cell_type": "code",
      "source": [
        "#################################\n",
        "# --- Agente 3: Comunicação --- #\n",
        "#################################\n",
        "def agente_comunicador(briefing, plano_do_evento):\n",
        "    comunicador = Agent(\n",
        "        name=\"agente_comunicador\",\n",
        "        model=\"gemini-2.0-flash\",\n",
        "        instruction=\"\"\"\n",
        "            Você é um especialista de comunicação da PaperCare. Sua função é elaborar os textos\n",
        "            para as peças de comunicação propostas no plano do evento. As comunicações devem ser integradas\n",
        "            entre si e com o core da empresa. Os textos devem levar em consideração as especificações\n",
        "            fornecidas pelo briefing e plano no evento.\n",
        "            Os textos devem ser de leitura rápida, engajadores, informativo, com linguagem simples e incluir 3 a 5 hashtags no final.\n",
        "            Todos os materiais, preferencialmente, devem ter o mesmo título e slogan para reforçar o propósito do evento e comunicação.\n",
        "            \"\"\",\n",
        "        description=\"Agente criador dos textos das comunicações do evento.\"\n",
        "    )\n",
        "    entrada_do_agente_comunicador = f\"Briefing:{briefing}\\nPlano do Evento: {plano_do_evento}\"\n",
        "    # Executa o agente\n",
        "    draft_comunicacao = call_agent(comunicador, entrada_do_agente_comunicador)\n",
        "    return draft_comunicacao"
      ],
      "metadata": {
        "id": "uOqlg2TRLVh1"
      },
      "execution_count": null,
      "outputs": []
    },
    {
      "cell_type": "code",
      "source": [
        "#######################################\n",
        "# --- Agente 4: Revisor do Evento --- #\n",
        "#######################################\n",
        "def agente_revisor(briefing, plano_do_evento,draft_comunicacao):\n",
        "    revisor = Agent(\n",
        "        name=\"agente_revisor\",\n",
        "        model=\"gemini-2.0-flash\",\n",
        "        instruction=\"\"\"\n",
        "            Você é o gestor e especialista em comunicação, endomarketing e experiencia do colaborador\n",
        "            da PaperCare. Sua função é revisar os drafts das comunicações e verificar se as comunicações\n",
        "            estão alinhadas com o Briefing e Plano do Evento. Caso haja melhorias, sugira alterações.\n",
        "            Caso esteja tudo certo, sinalize apenas com “Aprovado! Podem seguir.”\n",
        "            \"\"\",\n",
        "        description=\"Agente revisor da comunicação do evento.\"\n",
        "    )\n",
        "    entrada_do_agente_revisor = f\"Briefing:{briefing}\\nPlano do Evento: {plano_do_evento}\\nDraft da Comunicação: {draft_comunicacao}\"\n",
        "    # Executa o agente\n",
        "    comunicacao_revisada = call_agent(revisor, entrada_do_agente_revisor)\n",
        "    return comunicacao_revisada"
      ],
      "metadata": {
        "id": "_aTb1SdkLeT6"
      },
      "execution_count": null,
      "outputs": []
    },
    {
      "cell_type": "code",
      "source": [
        "#######################################\n",
        "# --- Formulário de Briefing --- #\n",
        "#######################################\n",
        "\n",
        "def coletar_briefing():\n",
        "    #Coleta informações do briefing do evento corporativo através de inputs validados.\n",
        "\n",
        "    briefing = {}\n",
        "\n",
        "    # Tipo de evento\n",
        "    while True:\n",
        "        tipo_evento = input(\"Qual o tipo de evento (Festa de final de ano, convenção, aniversário da empresa, campanha etc.)? \").strip()\n",
        "        if tipo_evento:\n",
        "            briefing['tipo_evento'] = tipo_evento\n",
        "            break\n",
        "        else:\n",
        "            print(\"Por favor, informe o tipo de evento.\")\n",
        "\n",
        "    # Tema\n",
        "    briefing['tema'] = input(\"Qual é o tema? \").strip()\n",
        "\n",
        "    # Data/período do evento\n",
        "    while True:\n",
        "        data_periodo = input(\"Data/período do evento? \").strip()\n",
        "        if data_periodo:\n",
        "            briefing['data_periodo'] = data_periodo\n",
        "            break\n",
        "        else:\n",
        "            print(\"Por favor, informe a data ou período do evento.\")\n",
        "\n",
        "    # Horário\n",
        "    while True:\n",
        "        horario = input(\"Horário? \").strip()\n",
        "        if horario:\n",
        "            briefing['horario'] = horario\n",
        "            break\n",
        "        else:\n",
        "            print(\"Por favor, informe o horário do evento.\")\n",
        "\n",
        "    # Público do evento - Número de pessoas\n",
        "    while True:\n",
        "        try:\n",
        "            num_pessoas = int(input(\"Público do evento: Número de pessoas? \"))\n",
        "            if num_pessoas > 0:\n",
        "                briefing['num_pessoas'] = num_pessoas\n",
        "                break\n",
        "            else:\n",
        "                print(\"Por favor, informe um número de pessoas válido.\")\n",
        "        except ValueError:\n",
        "            print(\"Por favor, insira um número inteiro para a quantidade de pessoas.\")\n",
        "\n",
        "    # Público do evento - Perfil/público-alvo\n",
        "    briefing['perfil_publico'] = input(\"Público do evento: Perfil/público-alvo (%mulheres x homens, faixa de idade, alta gestão, toda companhia, pessoal do escritório etc.)? \").strip()\n",
        "\n",
        "    # Orçamento previsto\n",
        "    while True:\n",
        "        try:\n",
        "            orcamento = float(input(\"Orçamento previsto em Reais (R$)? \"))\n",
        "            if orcamento >= 0:\n",
        "                briefing['orcamento'] = orcamento\n",
        "                break\n",
        "            else:\n",
        "                print(\"Por favor, informe um orçamento válido em reais (R$).\")\n",
        "        except ValueError:\n",
        "            print(\"Por favor, insira um valor numérico para o orçamento.\")\n",
        "\n",
        "    # O que precisa ter\n",
        "    briefing['precisa_ter'] = input(\"O que precisa ter? \").strip()\n",
        "\n",
        "    # Restrições\n",
        "    briefing['restricoes'] = input(\"Restrições: \").strip()\n",
        "\n",
        "    # Informações complementares\n",
        "    info_complementares = \"\"\"\n",
        "    · A PaperCare é uma empresa fabricante de papel (consumo, profissional e industrial) e produtos de cuidados pessoais (absorventes e fraldas).\n",
        "    · Tem cerca de 1200 funcionários distribuídos em 2 plantas fabris (com 870 e 215 funcionários), 1 escritório (85 funcionários) e time comercial (30 funcionários). A empresa tem 57 anos de existência e tem como lema “Nosso papel é construir o futuro”.\n",
        "    · Perfil do publico: 72% masculino; 28% feminino; 5% LGBTQIAP+; 80% do time das fábricas é operacional.\n",
        "    · As áreas fabris funcionam 24 horas por dia. Os operadores estão divididos em 4 equipes que rodam turnos de 8 horas. A cada 5 dias essas equipes fazem um rodízio de turno, sendo que uma das equipes fica de folga.\n",
        "    · O escritório, áreas administrativas e time comercial trabalham em horário comercial. Os times comerciais atuam fora do escritório.\n",
        "    · Considere que o time de Comunicação e Endomarleting é reduzido para produzir e executar o evento. Composição: 3 integrantes no escritório central + 1 apoio em cada fabrica.\n",
        "    \"\"\"\n",
        "\n",
        "    # Formatar a saída como um texto, incluindo as informações complementares\n",
        "    texto_briefing = f\"\"\"\n",
        "    Briefing do Evento:\n",
        "\n",
        "    Tipo de Evento: {briefing['tipo_evento']}\n",
        "    Tema: {briefing['tema']}\n",
        "    Data/Período: {briefing['data_periodo']}\n",
        "    Horário: {briefing['horario']}\n",
        "    Público - Número de Pessoas: {briefing['num_pessoas']}\n",
        "    Público - Perfil: {briefing['perfil_publico']}\n",
        "    Orçamento Previsto(R$): {briefing['orcamento']}\n",
        "    Precisa Ter: {briefing['precisa_ter']}\n",
        "    Restrições: {briefing['restricoes']}\n",
        "\n",
        "    Informações complementares:{info_complementares}\n",
        "    \"\"\"\n",
        "\n",
        "    return texto_briefing"
      ],
      "metadata": {
        "id": "2g1zvwU_HhPc"
      },
      "execution_count": null,
      "outputs": []
    },
    {
      "cell_type": "code",
      "source": [
        "data_de_hoje = date.today().strftime(\"%d/%m/%Y\")\n",
        "\n",
        "print(\"ASSISTENTE BUSINESS PARTY\")\n",
        "print(\"Olá sou seu assistente personalizado da PaperCare e estou aqui para auxiliá-lo a produzir os eventos da companhia.\")\n",
        "\n",
        "# Inserir lógica do sistema de agentes ################################################\n",
        "\n",
        "# --- Obter o Briefing do Usuário ---\n",
        "print(\"Vamos a primeira etapa. O Briefing:\")\n",
        "briefing = coletar_briefing()\n",
        "\n",
        "# --- Resumo do Briefing ---\n",
        "print(\"\\n--- Resumo do Briefing ---\\n\")\n",
        "display(to_markdown(briefing))\n",
        "print(\"----------------------------------------------------------------\")\n",
        "\n",
        "# --- Etapa de Brainstorming ---\n",
        "lista_de_ideias = agente_brainstormer(briefing)\n",
        "print(\"\\n--- Resultado da Etapa de Brainstorming ---\\n\")\n",
        "display(to_markdown(lista_de_ideias))\n",
        "print(\"----------------------------------------------------------------\")\n",
        "\n",
        "# --- Etapa de Planejamento ---\n",
        "plano_do_evento = agente_planejador(briefing, lista_de_ideias, data_de_hoje)\n",
        "print(\"\\n--- Resultado da Etapa de Planejamento ---\\n\")\n",
        "display(to_markdown(plano_do_evento))\n",
        "print(\"----------------------------------------------------------------\")\n",
        "\n",
        "# --- Etapa de Criação da Comunicação ---\n",
        "draft_comunicacao = agente_comunicador(briefing, plano_do_evento)\n",
        "print(\"\\n--- Resultado da Etapa de Criação da Comunicação ---\\n\")\n",
        "display(to_markdown(draft_comunicacao))\n",
        "print(\"----------------------------------------------------------------\")\n",
        "\n",
        "# --- Etapa de Revisão da Comunicação ---\n",
        "comunicacao_revisada = agente_revisor(briefing, plano_do_evento,draft_comunicacao)\n",
        "print(\"\\n--- Resultado da Etapa de Revisão da Comunicação ---\\n\")\n",
        "display(to_markdown(comunicacao_revisada))\n",
        "print(\"----------------------------------------------------------------\")\n",
        "print(f\"ASSISTENTE BUSINESS PARTY - IROTSUKA - {data_de_hoje}\")\n",
        "print(f\"####################################################\")\n",
        "print(f\"#  LINKEDIN:https://www.linkedin.com/in/irotsuka/  #\")\n",
        "print(f\"#  GITHUB: https://github.com/i-otsuka             #\")\n",
        "print(f\"####################################################\")"
      ],
      "metadata": {
        "id": "630ummxz4myx",
        "colab": {
          "base_uri": "https://localhost:8080/",
          "height": 1000
        },
        "outputId": "bbfa4ff3-2736-4ae0-9285-23590c2a28cd"
      },
      "execution_count": null,
      "outputs": [
        {
          "output_type": "stream",
          "name": "stdout",
          "text": [
            "ASSISTENTE BUSINESS PARTY\n",
            "Olá sou seu assistente personalizado da PaperCare e estou aqui para auxiliá-lo a produzir os eventos da companhia.\n",
            "Vamos a primeira etapa. O Briefing:\n",
            "Qual o tipo de evento (Festa de final de ano, convenção, aniversário da empresa, campanha etc.)? Treinamento\n",
            "Qual é o tema? IA para Produtividade no dia a dia.\n",
            "Data/período do evento? De 1 a 5 de julho de 2025\n",
            "Horário? das 14h as 17h\n",
            "Público do evento: Número de pessoas? 50\n",
            "Público do evento: Perfil/público-alvo (%mulheres x homens, faixa de idade, alta gestão, toda companhia, pessoal do escritório etc.)? Publico administrativo com perfil e nivel de conhecimento sobre IA variados.\n",
            "Orçamento previsto em Reais (R$)? 5000\n",
            "O que precisa ter? Apostiva e kit para os alunos e 2 instrutores.\n",
            "Restrições: Local com acessibilidade para cadeirante.\n",
            "\n",
            "--- Resumo do Briefing ---\n",
            "\n"
          ]
        },
        {
          "output_type": "display_data",
          "data": {
            "text/plain": [
              "<IPython.core.display.Markdown object>"
            ],
            "text/markdown": "> \n>     Briefing do Evento:\n> \n>     Tipo de Evento: Treinamento\n>     Tema: IA para Produtividade no dia a dia.\n>     Data/Período: De 1 a 5 de julho de 2025\n>     Horário: das 14h as 17h\n>     Público - Número de Pessoas: 50\n>     Público - Perfil: Publico administrativo com perfil e nivel de conhecimento sobre IA variados.\n>     Orçamento Previsto(R$): 5000.0\n>     Precisa Ter: Apostiva e kit para os alunos e 2 instrutores.\n>     Restrições: Local com acessibilidade para cadeirante.\n> \n>     Informações complementares:\n>     · A PaperCare é uma empresa fabricante de papel (consumo, profissional e industrial) e produtos de cuidados pessoais (absorventes e fraldas). \n>     · Tem cerca de 1200 funcionários distribuídos em 2 plantas fabris (com 870 e 215 funcionários), 1 escritório (85 funcionários) e time comercial (30 funcionários). A empresa tem 57 anos de existência e tem como lema “Nosso papel é construir o futuro”.\n>     · Perfil do publico: 72% masculino; 28% feminino; 5% LGBTQIAP+; 80% do time das fábricas é operacional.\n>     · As áreas fabris funcionam 24 horas por dia. Os operadores estão divididos em 4 equipes que rodam turnos de 8 horas. A cada 5 dias essas equipes fazem um rodízio de turno, sendo que uma das equipes fica de folga.\n>     · O escritório, áreas administrativas e time comercial trabalham em horário comercial. Os times comerciais atuam fora do escritório.\n>     · Considere que o time de Comunicação e Endomarleting é reduzido para produzir e executar o evento. Composição: 3 integrantes no escritório central + 1 apoio em cada fabrica.\n>     \n>     "
          },
          "metadata": {}
        },
        {
          "output_type": "stream",
          "name": "stdout",
          "text": [
            "----------------------------------------------------------------\n",
            "\n",
            "--- Resultado da Etapa de Brainstorming ---\n",
            "\n"
          ]
        },
        {
          "output_type": "display_data",
          "data": {
            "text/plain": [
              "<IPython.core.display.Markdown object>"
            ],
            "text/markdown": "> Okay, vamos gerar algumas ideias criativas para o treinamento \"IA para Produtividade no dia a dia\" da PaperCare, considerando o orçamento, público e restrições.\n> \n> \n> Com base no briefing e nas informações coletadas, aqui estão 5 ideias de festa com foco em treinamento sobre IA e produtividade, adequadas ao orçamento e às restrições:\n> \n> **1. Slogan:** \"PaperCare + IA: Produtividade que Constroi o Futuro\"\n> \n> *   **Ações e Atrações:**\n>     *   **Local:** Buscar um espaço de coworking ou sala de treinamento acessível na região das fábricas ou escritório central em São Paulo que se enquadre no orçamento. Priorizar locais com boa iluminação natural e que permitam flexibilidade no layout. Espaços como o Espaço Manacá ou alguns espaços de coworking podem ser boas opções dependendo dos valores e disponibilidade (considerando que estamos em 2025).\n>     *   **Instrutores:** Contratar 2 especialistas em IA e produtividade com experiência em treinamento corporativo. Buscar profissionais que consigam adaptar a linguagem para diferentes níveis de conhecimento sobre IA.\n>     *   **Conteúdo:** Dividir o treinamento em módulos práticos com exemplos de aplicação da IA no dia a dia da PaperCare (ex: otimização de processos, análise de dados, chatbots para suporte interno). Incluir estudos de caso e exercícios em grupo para fixar o aprendizado.\n>     *   **Dinâmicas:** Promover dinâmicas interativas utilizando ferramentas de IA (ex: brainstorming com IA para geração de ideias, quizzes sobre IA com recompensas).\n> *   **Materiais e Brindes:**\n>     *   **Apostila:** Criar uma apostila completa com o conteúdo do treinamento, exemplos práticos e exercícios. Incluir um glossário de termos de IA para facilitar o entendimento.\n>     *   **Kit:** Montar um kit para os participantes com caneta personalizada, bloco de notas ecológico, squeeze reutilizável e um pequeno guia de ferramentas de IA para produtividade.\n>     *   **Brindes:** Oferecer brindes criativos relacionados ao tema, como um chaveiro personalizado com o logo da PaperCare e um QR code para um artigo sobre IA ou um fone de ouvido simples para uso nas atividades práticas.\n> *   **Comunicação:**\n>     *   **Convites:** Criar convites digitais personalizados com o tema do treinamento e informações relevantes.\n>     *   **Banners:** Produzir banners informativos para o local do treinamento com o tema \"IA para Produtividade\" e o slogan do evento.\n>     *   **Espaço Instagramável:** Criar um pequeno espaço instagramável com o logo da PaperCare e elementos relacionados à IA para que os participantes possam tirar fotos e compartilhar nas redes sociais.\n> \n> **2. Slogan:** \"Turbine Sua Produtividade: IA na Prática PaperCare\"\n> \n> *   **Ações e Atrações:**\n>     *   **Formato:** Adotar um formato de \"hackathon\" com foco em soluções de IA para desafios reais da PaperCare. Dividir os participantes em grupos multidisciplinares e desafiá-los a criar protótipos de soluções inovadoras.\n>     *   **Mentores:** Convidar especialistas em IA para atuarem como mentores dos grupos, oferecendo suporte técnico e orientação estratégica.\n>     *   **Premiação:** Premiar os grupos vencedores com brindes especiais (ex: vale-presente, cursos online de IA).\n> *   **Materiais e Brindes:**\n>     *   **Kit:** Incluir no kit um \"manual do hacker\" com dicas de ferramentas de IA e produtividade, além de um power bank portátil para garantir que os participantes não fiquem sem bateria durante o hackathon.\n>     *   **Brindes:** Oferecer adesivos personalizados com o tema do evento para que os participantes possam customizar seus laptops e cadernos.\n> \n> **3. Slogan:** \"Desvendando a IA: Seu Guia PaperCare para um Futuro Produtivo\"\n> \n> *   **Ações e Atrações:**\n>     *   **Formato:** Organizar um \"workshop experience\" com estações interativas onde os participantes possam experimentar diferentes ferramentas de IA para produtividade (ex: geradores de texto, softwares de automação, ferramentas de análise de dados).\n>     *   **Consultores:** Contratar consultores especializados em cada ferramenta para demonstrarem o uso e tirarem dúvidas dos participantes.\n> *   **Materiais e Brindes:**\n>     *   **Apostila:** Criar uma apostila com o passo a passo de como usar cada ferramenta de IA apresentada no workshop.\n>     *   **Brindes:** Oferecer um período de teste gratuito de algumas das ferramentas de IA apresentadas para que os participantes possam continuar praticando após o treinamento.\n> \n> **4. Slogan:** \"IA no Seu DNA: PaperCare Rumo à Produtividade Inteligente\"\n> \n> *   **Ações e Atrações:**\n>     *   **Formato:** Promover um treinamento gamificado com desafios e recompensas relacionados ao tema da IA e produtividade. Utilizar uma plataforma online para acompanhar o progresso dos participantes e criar um ranking.\n>     *   **Leaderboard:** Exibir um leaderboard com os melhores desempenhos para incentivar a competição saudável entre os participantes.\n> *   **Materiais e Brindes:**\n>     *   **Kit:** Incluir no kit um \"passaporte para a produtividade\" com desafios e recompensas a serem conquistadas ao longo do treinamento.\n>     *   **Brindes:** Oferecer medalhas personalizadas para os participantes que completarem todos os desafios do treinamento.\n> \n> **5. Slogan:** \"Construindo o Futuro: IA e Produtividade na PaperCare\"\n> \n> *   **Ações e Atrações:**\n>     *   **Local:** Se possível, realizar o treinamento em um local com espaços ao ar livre para promover momentos de descontração e networking entre os participantes.\n>     *   **Atividades:** Incluir atividades de team building ao ar livre com foco em resolução de problemas e criatividade.\n> *   **Materiais e Brindes:**\n>     *   **Kit:** Oferecer um kit com itens úteis para o dia a dia no trabalho, como um organizador de mesa, um porta-copos personalizado e um bloco de notas adesivas.\n>     *   **Brindes:** Plantar uma árvore com o nome do treinamento e o logo da PaperCare como um símbolo do futuro que estão construindo juntos.\n> \n> Lembre-se de adaptar as ideias ao perfil do público, ao orçamento disponível e às restrições do local. O mais importante é criar um ambiente de aprendizado divertido, interativo e que gere resultados práticos para a PaperCare.\n> \n"
          },
          "metadata": {}
        },
        {
          "output_type": "stream",
          "name": "stdout",
          "text": [
            "----------------------------------------------------------------\n",
            "\n",
            "--- Resultado da Etapa de Planejamento ---\n",
            "\n"
          ]
        },
        {
          "output_type": "display_data",
          "data": {
            "text/plain": [
              "<IPython.core.display.Markdown object>"
            ],
            "text/markdown": "> Okay, com base no briefing e nas ideias levantadas, vou elaborar uma proposta de evento de treinamento sobre \"IA para Produtividade no dia a dia\" para a PaperCare. O objetivo é criar um evento que seja informativo, prático, engajador e que se alinhe com o orçamento e as restrições da empresa.\n> \n> **Apresentação da Proposta de Evento**\n> \n> **1. Resumo do Evento:**\n> \n> *   **Nome do Evento:** IA para Produtividade na PaperCare\n> *   **Tipo de Evento:** Treinamento\n> *   **Tema:** IA para Produtividade no dia a dia.\n> *   **Data:** 01 a 05 de Julho de 2025\n> *   **Horário:** 14h às 17h\n> *   **Público:** Funcionários da PaperCare (administrativo e fábricas)\n> *   **Número de Participantes:** 50\n> *   **Objetivo:** Capacitar os funcionários da PaperCare a utilizarem ferramentas de IA para aumentar a produtividade no dia a dia, otimizar processos e construir um futuro mais inteligente para a empresa.\n> \n> **2. Tema e Slogan:**\n> \n> *   **Tema:** IA para Produtividade\n> *   **Slogan:** \"PaperCare + IA: Produtividade que Constroi o Futuro\" (combina a identidade da empresa com o tema do evento)\n> \n> **3. Programação do Evento:**\n> \n> *   **Dia 1:**\n>     *   Abertura: Apresentação do evento, do tema e dos instrutores. Dinâmica de integração.\n>     *   Módulo 1: Introdução à IA - Conceitos básicos, tipos de IA e aplicações no mundo corporativo.\n>     *   Atividade Prática: Brainstorming com IA para identificar oportunidades de melhoria na PaperCare.\n> *   **Dia 2:**\n>     *   Módulo 2: Ferramentas de IA para Produtividade - Apresentação e demonstração de ferramentas para otimização de tarefas, automação de processos e análise de dados.\n>     *   Atividade Prática: Experimentação das ferramentas em grupos.\n> *   **Dia 3:**\n>     *   Módulo 3: IA no Dia a Dia da PaperCare - Estudos de caso de aplicações de IA em empresas do setor e exemplos práticos de como usar a IA para resolver problemas na PaperCare.\n>     *   Atividade Prática: Criação de protótipos de soluções de IA para desafios específicos da empresa.\n> *   **Dia 4:**\n>     *   Módulo 4: Ética e Responsabilidade na IA - Discussão sobre os aspectos éticos do uso da IA e as responsabilidades das empresas e dos profissionais.\n>     *   Atividade Prática: Debate em grupo sobre os desafios éticos da IA e a criação de um código de conduta para o uso da IA na PaperCare.\n> *   **Dia 5:**\n>     *   Módulo 5: O Futuro da IA na PaperCare - Apresentação das tendências da IA e discussão sobre como a PaperCare pode se preparar para o futuro.\n>     *   Atividade Prática: Planejamento individual de como aplicar os conhecimentos adquiridos no treinamento no dia a dia.\n>     *   Encerramento: Avaliação do evento, entrega de certificados e sorteio de brindes.\n> \n> **4. Plano de Comunicação:**\n> \n> *   **Canais:**\n>     *   E-mail marketing: Envio de convites e informações sobre o evento.\n>     *   Murais de avisos nas fábricas e no escritório: Divulgação do evento com cartazes e banners.\n>     *   Fundo de telas dos computadores: Criação de um fundo de tela temático para promover o evento.\n>     *   Intranet: Criação de uma página com informações sobre o evento, programação, palestrantes e inscrições.\n>     *   TVs corporativas: Exibição de vídeos e slides sobre o evento.\n>     *   Grupos de WhatsApp e Telegram: Envio de mensagens com informações e lembretes sobre o evento.\n> *   **Peças de Comunicação:**\n>     *   Convite digital personalizado\n>     *   Cartazes e banners\n>     *   Fundo de tela\n>     *   Página na intranet\n>     *   Vídeos e slides para as TVs corporativas\n>     *   Posts para as redes sociais (se aplicável)\n> \n> **5. Plano de Execução:**\n> \n> | Tarefa                               | Responsável                   | Prazo           | Status   |\n> | :----------------------------------- | :---------------------------- | :-------------- | :------- |\n> | Definição do local do evento          | Time de Comunicação Interna   | 23/05/2025      | Pendente |\n> | Contratação dos instrutores          | Time de Comunicação Interna   | 30/05/2025      | Pendente |\n> | Criação do conteúdo do treinamento   | Instrutores                  | 13/06/2025      | Pendente |\n> | Produção da apostila                 | Time de Comunicação Interna   | 20/06/2025      | Pendente |\n> | Compra dos materiais para o kit      | Time de Comunicação Interna   | 20/06/2025      | Pendente |\n> | Criação das peças de comunicação     | Time de Comunicação Interna   | 20/06/2025      | Pendente |\n> | Divulgação do evento                 | Time de Comunicação Interna   | 27/06/2025      | Pendente |\n> | Preparação do local do evento        | Time de Comunicação Interna   | 30/06/2025      | Pendente |\n> | Execução do treinamento              | Instrutores e Time de Comunicação Interna   | 01 a 05/07/2025 | Pendente |\n> | Avaliação do evento                  | Time de Comunicação Interna   | 10/07/2025      | Pendente |\n> \n> **Minuto a Minuto do Evento (Exemplo do Dia 1):**\n> \n> *   14:00 - 14:15: Recepção dos participantes e coffee break de boas-vindas.\n> *   14:15 - 14:30: Abertura do evento, apresentação do tema e dos instrutores.\n> *   14:30 - 15:30: Módulo 1: Introdução à IA.\n> *   15:30 - 16:00: Atividade Prática: Brainstorming com IA.\n> *   16:00 - 16:15: Coffee break.\n> *   16:15 - 17:00: Discussão dos resultados do brainstorming e encerramento do dia.\n> \n> **6. Custos:**\n> \n> | Item                           | Quantidade | Valor Unitário (R$) | Valor Total (R$) |\n> | :----------------------------- | :--------- | :------------------ | :--------------- |\n> | Local do evento                 | 5 dias     | 500,00              | 2.500,00         |\n> | Instrutores                     | 2          | 750,00              | 1.500,00         |\n> | Apostilas                       | 50         | 20,00               | 1.000,00         |\n> | Kit para os participantes      | 50         | 20,00               | 1.000,00         |\n> | Coffee breaks                   | 5 dias     | 100,00              | 500,00           |\n> | Material de divulgação          | -          | -                   | 500,00           |\n> | **TOTAL**                      |            |                     | **7.000,00**       |\n> \n> **Observações:**\n> \n> *   Os valores apresentados são estimativas e podem variar dependendo da negociação com os fornecedores.\n> *   O orçamento pode ser ajustado de acordo com as prioridades da empresa. Por exemplo, pode-se reduzir o número de brindes ou buscar um local mais econômico.\n> \n> **7. Considerações Finais:**\n> \n> Este plano de evento tem como objetivo fornecer uma estrutura para a realização de um treinamento de IA para Produtividade na PaperCare. É importante que o time de comunicação interna e endomarketing trabalhe em conjunto com os instrutores e os demais envolvidos para garantir o sucesso do evento.\n> \n> Com um planejamento cuidadoso e uma execução eficiente, o treinamento de IA para Produtividade pode trazer resultados significativos para a PaperCare, como o aumento da produtividade, a otimização de processos e a construção de um futuro mais inteligente para a empresa.\n> \n> Com esta apresentação, a gestão da empresa poderá avaliar a proposta e dar o aval para a execução do evento. O time de comunicação poderá, então, utilizar este material como base para a criação dos textos e peças de comunicação.\n"
          },
          "metadata": {}
        },
        {
          "output_type": "stream",
          "name": "stdout",
          "text": [
            "----------------------------------------------------------------\n",
            "\n",
            "--- Resultado da Etapa de Criação da Comunicação ---\n",
            "\n"
          ]
        },
        {
          "output_type": "display_data",
          "data": {
            "text/plain": [
              "<IPython.core.display.Markdown object>"
            ],
            "text/markdown": "> Perfeito! Com base no briefing detalhado e no plano do evento, elaborei os textos para as peças de comunicação, focando em leitura rápida, engajamento e alinhamento com a PaperCare:\n> \n> **Título e Slogan Padrão para Todas as Peças:**\n> \n> *   **Título:** IA para Produtividade na PaperCare\n> *   **Slogan:** \"PaperCare + IA: Produtividade que Constroi o Futuro\"\n> \n> **Textos para as Peças de Comunicação:**\n> \n> 1.  **Convite Digital Personalizado (E-mail Marketing/WhatsApp):**\n> \n> **Assunto:** Prepare-se para o futuro: Treinamento de IA na PaperCare!\n> \n> **Corpo do E-mail:**\n> \n> Olá, [Nome do Funcionário]!\n> \n> A PaperCare está investindo no futuro e convidando você para o treinamento exclusivo: \"IA para Produtividade na PaperCare\"!\n> \n> De 01 a 05 de julho, das 14h às 17h, aprenda a usar a Inteligência Artificial para otimizar seu trabalho, aumentar a produtividade e construir um futuro mais eficiente para nossa empresa.\n> \n> **O que você vai aprender:**\n> \n> *   Conceitos básicos de IA\n> *   Ferramentas práticas para o dia a dia\n> *   Como a IA pode transformar a PaperCare\n> *   Ética e responsabilidade no uso da IA\n> \n> **Inscreva-se agora:** [Link para Inscrição]\n> \n> Vagas Limitadas!\n> \n> Nosso papel é construir o futuro, e a IA é uma ferramenta poderosa para isso.\n> \n> Atenciosamente,\n> \n> Time PaperCare\n> \n> **Hashtags:** #PaperCare #IAparaProdutividade #Inovação #FuturoDoTrabalho #Treinamento\n> \n> 2.  **Cartazes e Banners (Fábricas e Escritório):**\n> \n> **Título:** IA para Produtividade na PaperCare\n> \n> **Slogan:** \"PaperCare + IA: Produtividade que Constroi o Futuro\"\n> \n> **Texto:**\n> \n> Atenção, time PaperCare!\n> \n> Participe do nosso treinamento de IA e descubra como a Inteligência Artificial pode transformar o seu dia a dia!\n> \n> *   **Data:** 01 a 05 de Julho\n> *   **Horário:** 14h às 17h\n> *   **Local:** [Local do Evento]\n> \n> **Inscreva-se já!** [QR Code ou Link Curto]\n> \n> Seja parte da revolução da produtividade na PaperCare!\n> \n> **Hashtags:** #PaperCare #IAparaProdutividade #Inovação #Eficiência #Treinamento\n> \n> 3.  **Fundo de Tela (Computadores):**\n> \n> *   Design visualmente atraente com o logo da PaperCare e imagens relacionadas à IA.\n> *   **Título:** IA para Produtividade na PaperCare\n> *   **Slogan:** \"PaperCare + IA: Produtividade que Constroi o Futuro\"\n> *   **Texto:** Prepare-se para o treinamento de IA que vai transformar a PaperCare! [Data e Link]\n> \n> 4.  **Página na Intranet:**\n> \n> **Título:** IA para Produtividade na PaperCare\n> \n> **Slogan:** \"PaperCare + IA: Produtividade que Constroi o Futuro\"\n> \n> **Conteúdo:**\n> \n> *   **Descrição:** Descubra como a Inteligência Artificial pode impulsionar a sua produtividade e otimizar os processos da PaperCare.\n> *   **Programação Completa:** Detalhes de cada dia do treinamento, com os temas e horários.\n> *   **Palestrantes:** Informações sobre os instrutores, suas qualificações e experiência.\n> *   **Inscrições:** Link para o formulário de inscrição.\n> *   **Notícias e Atualizações:** Mantenha-se informado sobre o evento.\n> *   **FAQ:** Respostas para as perguntas mais frequentes.\n> \n> 5.  **Vídeos e Slides para as TVs Corporativas:**\n> \n> *   **Vídeos Curtos (15-30 segundos):**\n>     *   Depoimentos de funcionários sobre suas expectativas em relação ao treinamento.\n>     *   Animações mostrando como a IA pode ser aplicada em diferentes áreas da PaperCare.\n> *   **Slides:**\n>     *   Título e Slogan em destaque.\n>     *   Datas, horários e local do treinamento.\n>     *   Benefícios de participar do treinamento.\n>     *   Chamada para inscrição com QR Code ou link curto.\n> \n> 6.  **Posts para Redes Sociais (Se Aplicável):**\n> \n> *   Adapte os textos e as imagens para cada plataforma (LinkedIn, Instagram, etc.).\n> *   Use vídeos curtos e chamativos para atrair a atenção.\n> *   Incentive o compartilhamento e o engajamento com perguntas e enquetes.\n> \n> **Exemplo de Post para LinkedIn:**\n> \n> A PaperCare está investindo no futuro da produtividade! 🚀\n> \n> Estamos oferecendo um treinamento exclusivo sobre \"IA para Produtividade na PaperCare\". Descubra como a Inteligência Artificial pode transformar o seu trabalho e impulsionar a nossa empresa!\n> \n> [Link para Inscrição]\n> \n> #PaperCare #IAparaProdutividade #Inovação #Liderança #TransformaçãoDigital\n> \n> **Considerações Adicionais:**\n> \n> *   Mantenha a identidade visual da PaperCare em todas as peças de comunicação.\n> *   Use uma linguagem clara, simples e direta.\n> *   Destaque os benefícios do treinamento para os funcionários.\n> *   Crie um senso de urgência para incentivar as inscrições.\n> *   Monitore os resultados das campanhas de comunicação para otimizar as estratégias.\n> \n> Com esses textos e peças de comunicação, a PaperCare estará pronta para divulgar o treinamento de IA de forma eficaz e engajadora, preparando seus funcionários para o futuro!\n> \n"
          },
          "metadata": {}
        },
        {
          "output_type": "stream",
          "name": "stdout",
          "text": [
            "----------------------------------------------------------------\n",
            "\n",
            "--- Resultado da Etapa de Revisão da Comunicação ---\n",
            "\n"
          ]
        },
        {
          "output_type": "display_data",
          "data": {
            "text/plain": [
              "<IPython.core.display.Markdown object>"
            ],
            "text/markdown": "> Aprovado! Podem seguir.\n"
          },
          "metadata": {}
        },
        {
          "output_type": "stream",
          "name": "stdout",
          "text": [
            "----------------------------------------------------------------\n",
            "ASSISTENTE BUSINESS PARTY - IROTSUKA - 17/05/2025\n",
            "####################################################\n",
            "#  LINKEDIN:https://www.linkedin.com/in/irotsuka/  #\n",
            "#  GITHUB: https://github.com/i-otsuka             #\n",
            "####################################################\n"
          ]
        }
      ]
    }
  ]
}