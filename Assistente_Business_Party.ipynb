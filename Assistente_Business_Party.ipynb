{
  "nbformat": 4,
  "nbformat_minor": 0,
  "metadata": {
    "colab": {
      "provenance": []
    },
    "kernelspec": {
      "name": "python3",
      "display_name": "Python 3"
    },
    "language_info": {
      "name": "python"
    }
  },
  "cells": [
    {
      "cell_type": "code",
      "source": [
        "%pip -q install google-genai"
      ],
      "metadata": {
        "id": "UCCbECexLk_h"
      },
      "execution_count": 2,
      "outputs": []
    },
    {
      "cell_type": "code",
      "source": [
        "# Configura a API Key do Google Gemini\n",
        "\n",
        "import os\n",
        "from google.colab import userdata\n",
        "\n",
        "os.environ[\"GOOGLE_API_KEY\"] = userdata.get('GOOGLE_API_KEY')"
      ],
      "metadata": {
        "id": "NfCqHo1tLk8P"
      },
      "execution_count": 1,
      "outputs": []
    },
    {
      "cell_type": "code",
      "source": [
        "# Configura o cliente da SDK do Gemini\n",
        "\n",
        "from google import genai\n",
        "\n",
        "client = genai.Client()\n",
        "\n",
        "MODEL_ID = \"gemini-2.0-flash\""
      ],
      "metadata": {
        "id": "bV4w0H5TLk5g"
      },
      "execution_count": 2,
      "outputs": []
    },
    {
      "cell_type": "code",
      "source": [
        "# Pergunta ao Gemini uma informação mais recente que seu conhecimento\n",
        "\n",
        "from IPython.display import HTML, Markdown\n",
        "\n",
        "# Perguntar pro modelo quando é a próxima imersão de IA ###############################################\n",
        "resposta = client.models.generate_content(\n",
        "    model=MODEL_ID,\n",
        "    contents='Quando é a próxima Imersão IA com Google Gemini da Alura?',\n",
        ")\n",
        "\n",
        "# Exibe a resposta na tela\n",
        "display(Markdown(f\"Resposta:\\n {resposta.text}\"))"
      ],
      "metadata": {
        "id": "HwVP7Xi34Zuw",
        "colab": {
          "base_uri": "https://localhost:8080/",
          "height": 163
        },
        "outputId": "1f87e3a2-b9d4-400e-d3a3-304e95922d09"
      },
      "execution_count": 4,
      "outputs": [
        {
          "output_type": "display_data",
          "data": {
            "text/plain": [
              "<IPython.core.display.Markdown object>"
            ],
            "text/markdown": "Resposta:\n A Alura ainda não anunciou uma nova edição da Imersão IA com Google Gemini. A última edição ocorreu em fevereiro de 2024.\n\nA melhor forma de ficar sabendo sobre futuras edições é:\n\n*   **Seguir a Alura nas redes sociais:** Eles costumam anunciar novidades por lá (LinkedIn, Instagram, etc.).\n*   **Assinar a newsletter da Alura:** Assim você recebe informações diretamente no seu e-mail.\n*   **Acompanhar o fórum da Alura:** A comunidade pode compartilhar informações sobre novos cursos e imersões.\n*   **Verificar a página de cursos de IA da Alura:** Fique de olho na página de cursos de Inteligência Artificial da Alura para ver se há alguma novidade ou previsão de novas turmas."
          },
          "metadata": {}
        }
      ]
    },
    {
      "cell_type": "code",
      "source": [
        "# Pergunta ao Gemini uma informação utilizando a busca do Google como contexto\n",
        "\n",
        "response = client.models.generate_content(\n",
        "    model=MODEL_ID,\n",
        "    contents='Quando é a próxima Imersão IA com Google Gemini da Alura?',\n",
        "    # Insere a tool de busca do Google ###############################################\n",
        "    config={\"tools\":[{\"google_search\": {}}]}\n",
        ")\n",
        "\n",
        "# Exibe a resposta na tela\n",
        "display(Markdown(f\"Resposta:\\n {response.text}\"))"
      ],
      "metadata": {
        "id": "yXaZd7iZ4ftw",
        "colab": {
          "base_uri": "https://localhost:8080/",
          "height": 81
        },
        "outputId": "ada50d53-ade8-499b-8467-0003b3835152"
      },
      "execution_count": 5,
      "outputs": [
        {
          "output_type": "display_data",
          "data": {
            "text/plain": [
              "<IPython.core.display.Markdown object>"
            ],
            "text/markdown": "Resposta:\n A próxima Imersão IA com Google Gemini da Alura aconteceu entre os dias 12 e 16 de maio de 2025. As inscrições para o curso já estão abertas no site da Alura. O curso é gratuito, 100% online e voltado para profissionais de todas as áreas, sem exigir conhecimento prévio. Ao final da imersão, os participantes ganham um certificado da Alura e do Google.\n"
          },
          "metadata": {}
        }
      ]
    },
    {
      "cell_type": "code",
      "source": [
        "# Exibe a busca\n",
        "print(f\"Busca realizada: {response.candidates[0].grounding_metadata.web_search_queries}\")\n",
        "# Exibe as URLs nas quais ele se baseou\n",
        "print(f\"Páginas utilizadas na resposta: {', '.join([site.web.title for site in response.candidates[0].grounding_metadata.grounding_chunks])}\")\n",
        "print()\n",
        "display(HTML(response.candidates[0].grounding_metadata.search_entry_point.rendered_content))"
      ],
      "metadata": {
        "id": "xHSNlTd84heJ",
        "colab": {
          "base_uri": "https://localhost:8080/",
          "height": 117
        },
        "outputId": "a1404738-5cb2-449c-c0c5-ca62e49335a5"
      },
      "execution_count": 6,
      "outputs": [
        {
          "output_type": "stream",
          "name": "stdout",
          "text": [
            "Busca realizada: ['Próxima imersão IA com Google Gemini Alura']\n",
            "Páginas utilizadas na resposta: starten.tech, alura.com.br, youtube.com\n",
            "\n"
          ]
        },
        {
          "output_type": "display_data",
          "data": {
            "text/plain": [
              "<IPython.core.display.HTML object>"
            ],
            "text/html": [
              "<style>\n",
              ".container {\n",
              "  align-items: center;\n",
              "  border-radius: 8px;\n",
              "  display: flex;\n",
              "  font-family: Google Sans, Roboto, sans-serif;\n",
              "  font-size: 14px;\n",
              "  line-height: 20px;\n",
              "  padding: 8px 12px;\n",
              "}\n",
              ".chip {\n",
              "  display: inline-block;\n",
              "  border: solid 1px;\n",
              "  border-radius: 16px;\n",
              "  min-width: 14px;\n",
              "  padding: 5px 16px;\n",
              "  text-align: center;\n",
              "  user-select: none;\n",
              "  margin: 0 8px;\n",
              "  -webkit-tap-highlight-color: transparent;\n",
              "}\n",
              ".carousel {\n",
              "  overflow: auto;\n",
              "  scrollbar-width: none;\n",
              "  white-space: nowrap;\n",
              "  margin-right: -12px;\n",
              "}\n",
              ".headline {\n",
              "  display: flex;\n",
              "  margin-right: 4px;\n",
              "}\n",
              ".gradient-container {\n",
              "  position: relative;\n",
              "}\n",
              ".gradient {\n",
              "  position: absolute;\n",
              "  transform: translate(3px, -9px);\n",
              "  height: 36px;\n",
              "  width: 9px;\n",
              "}\n",
              "@media (prefers-color-scheme: light) {\n",
              "  .container {\n",
              "    background-color: #fafafa;\n",
              "    box-shadow: 0 0 0 1px #0000000f;\n",
              "  }\n",
              "  .headline-label {\n",
              "    color: #1f1f1f;\n",
              "  }\n",
              "  .chip {\n",
              "    background-color: #ffffff;\n",
              "    border-color: #d2d2d2;\n",
              "    color: #5e5e5e;\n",
              "    text-decoration: none;\n",
              "  }\n",
              "  .chip:hover {\n",
              "    background-color: #f2f2f2;\n",
              "  }\n",
              "  .chip:focus {\n",
              "    background-color: #f2f2f2;\n",
              "  }\n",
              "  .chip:active {\n",
              "    background-color: #d8d8d8;\n",
              "    border-color: #b6b6b6;\n",
              "  }\n",
              "  .logo-dark {\n",
              "    display: none;\n",
              "  }\n",
              "  .gradient {\n",
              "    background: linear-gradient(90deg, #fafafa 15%, #fafafa00 100%);\n",
              "  }\n",
              "}\n",
              "@media (prefers-color-scheme: dark) {\n",
              "  .container {\n",
              "    background-color: #1f1f1f;\n",
              "    box-shadow: 0 0 0 1px #ffffff26;\n",
              "  }\n",
              "  .headline-label {\n",
              "    color: #fff;\n",
              "  }\n",
              "  .chip {\n",
              "    background-color: #2c2c2c;\n",
              "    border-color: #3c4043;\n",
              "    color: #fff;\n",
              "    text-decoration: none;\n",
              "  }\n",
              "  .chip:hover {\n",
              "    background-color: #353536;\n",
              "  }\n",
              "  .chip:focus {\n",
              "    background-color: #353536;\n",
              "  }\n",
              "  .chip:active {\n",
              "    background-color: #464849;\n",
              "    border-color: #53575b;\n",
              "  }\n",
              "  .logo-light {\n",
              "    display: none;\n",
              "  }\n",
              "  .gradient {\n",
              "    background: linear-gradient(90deg, #1f1f1f 15%, #1f1f1f00 100%);\n",
              "  }\n",
              "}\n",
              "</style>\n",
              "<div class=\"container\">\n",
              "  <div class=\"headline\">\n",
              "    <svg class=\"logo-light\" width=\"18\" height=\"18\" viewBox=\"9 9 35 35\" fill=\"none\" xmlns=\"http://www.w3.org/2000/svg\">\n",
              "      <path fill-rule=\"evenodd\" clip-rule=\"evenodd\" d=\"M42.8622 27.0064C42.8622 25.7839 42.7525 24.6084 42.5487 23.4799H26.3109V30.1568H35.5897C35.1821 32.3041 33.9596 34.1222 32.1258 35.3448V39.6864H37.7213C40.9814 36.677 42.8622 32.2571 42.8622 27.0064V27.0064Z\" fill=\"#4285F4\"/>\n",
              "      <path fill-rule=\"evenodd\" clip-rule=\"evenodd\" d=\"M26.3109 43.8555C30.9659 43.8555 34.8687 42.3195 37.7213 39.6863L32.1258 35.3447C30.5898 36.3792 28.6306 37.0061 26.3109 37.0061C21.8282 37.0061 18.0195 33.9811 16.6559 29.906H10.9194V34.3573C13.7563 39.9841 19.5712 43.8555 26.3109 43.8555V43.8555Z\" fill=\"#34A853\"/>\n",
              "      <path fill-rule=\"evenodd\" clip-rule=\"evenodd\" d=\"M16.6559 29.8904C16.3111 28.8559 16.1074 27.7588 16.1074 26.6146C16.1074 25.4704 16.3111 24.3733 16.6559 23.3388V18.8875H10.9194C9.74388 21.2072 9.06992 23.8247 9.06992 26.6146C9.06992 29.4045 9.74388 32.022 10.9194 34.3417L15.3864 30.8621L16.6559 29.8904V29.8904Z\" fill=\"#FBBC05\"/>\n",
              "      <path fill-rule=\"evenodd\" clip-rule=\"evenodd\" d=\"M26.3109 16.2386C28.85 16.2386 31.107 17.1164 32.9095 18.8091L37.8466 13.8719C34.853 11.082 30.9659 9.3736 26.3109 9.3736C19.5712 9.3736 13.7563 13.245 10.9194 18.8875L16.6559 23.3388C18.0195 19.2636 21.8282 16.2386 26.3109 16.2386V16.2386Z\" fill=\"#EA4335\"/>\n",
              "    </svg>\n",
              "    <svg class=\"logo-dark\" width=\"18\" height=\"18\" viewBox=\"0 0 48 48\" xmlns=\"http://www.w3.org/2000/svg\">\n",
              "      <circle cx=\"24\" cy=\"23\" fill=\"#FFF\" r=\"22\"/>\n",
              "      <path d=\"M33.76 34.26c2.75-2.56 4.49-6.37 4.49-11.26 0-.89-.08-1.84-.29-3H24.01v5.99h8.03c-.4 2.02-1.5 3.56-3.07 4.56v.75l3.91 2.97h.88z\" fill=\"#4285F4\"/>\n",
              "      <path d=\"M15.58 25.77A8.845 8.845 0 0 0 24 31.86c1.92 0 3.62-.46 4.97-1.31l4.79 3.71C31.14 36.7 27.65 38 24 38c-5.93 0-11.01-3.4-13.45-8.36l.17-1.01 4.06-2.85h.8z\" fill=\"#34A853\"/>\n",
              "      <path d=\"M15.59 20.21a8.864 8.864 0 0 0 0 5.58l-5.03 3.86c-.98-2-1.53-4.25-1.53-6.64 0-2.39.55-4.64 1.53-6.64l1-.22 3.81 2.98.22 1.08z\" fill=\"#FBBC05\"/>\n",
              "      <path d=\"M24 14.14c2.11 0 4.02.75 5.52 1.98l4.36-4.36C31.22 9.43 27.81 8 24 8c-5.93 0-11.01 3.4-13.45 8.36l5.03 3.85A8.86 8.86 0 0 1 24 14.14z\" fill=\"#EA4335\"/>\n",
              "    </svg>\n",
              "    <div class=\"gradient-container\"><div class=\"gradient\"></div></div>\n",
              "  </div>\n",
              "  <div class=\"carousel\">\n",
              "    <a class=\"chip\" href=\"https://vertexaisearch.cloud.google.com/grounding-api-redirect/AbF9wXHHzcszxgSTD94KiNYzUWjzg5eHVlJGiW2v6AoY4TumN6SqmhQ4-iM6T9P2yhJRrMRMyOF8yC8QsaY_8Tc7SRiKJ2p2FM5D2XjRjTTA8DzU0uVZ_TsfingONpVYB046yNz9-9-4nsNf9AR6B_LZfrAIMRZRr3wZ_KvJSFx4htajUpDfFmtt6ZNYXWqoER_2-ysVWJnXmqYen2D_AeP9VwXpJ2OwgwBHEaWm8kwfTVlN75TcVX25zmuE\">Próxima imersão IA com Google Gemini Alura</a>\n",
              "  </div>\n",
              "</div>\n"
            ]
          },
          "metadata": {}
        }
      ]
    },
    {
      "cell_type": "code",
      "source": [
        "# Instalar Framework ADK de agentes do Google ################################################\n",
        "!pip install -q google-adk"
      ],
      "metadata": {
        "id": "hvZ3UnPI4jhJ",
        "colab": {
          "base_uri": "https://localhost:8080/"
        },
        "outputId": "237559ea-87ce-4011-8cfb-2b39e2f971f3"
      },
      "execution_count": 7,
      "outputs": [
        {
          "output_type": "stream",
          "name": "stdout",
          "text": [
            "\u001b[?25l   \u001b[90m━━━━━━━━━━━━━━━━━━━━━━━━━━━━━━━━━━━━━━━━\u001b[0m \u001b[32m0.0/1.2 MB\u001b[0m \u001b[31m?\u001b[0m eta \u001b[36m-:--:--\u001b[0m\r\u001b[2K   \u001b[91m━━━━━━━━━━━━━━━━\u001b[0m\u001b[90m╺\u001b[0m\u001b[90m━━━━━━━━━━━━━━━━━━━━━━━\u001b[0m \u001b[32m0.5/1.2 MB\u001b[0m \u001b[31m14.9 MB/s\u001b[0m eta \u001b[36m0:00:01\u001b[0m\r\u001b[2K   \u001b[90m━━━━━━━━━━━━━━━━━━━━━━━━━━━━━━━━━━━━━━━━\u001b[0m \u001b[32m1.2/1.2 MB\u001b[0m \u001b[31m18.1 MB/s\u001b[0m eta \u001b[36m0:00:00\u001b[0m\n",
            "\u001b[?25h\u001b[?25l   \u001b[90m━━━━━━━━━━━━━━━━━━━━━━━━━━━━━━━━━━━━━━━━\u001b[0m \u001b[32m0.0/232.1 kB\u001b[0m \u001b[31m?\u001b[0m eta \u001b[36m-:--:--\u001b[0m\r\u001b[2K   \u001b[90m━━━━━━━━━━━━━━━━━━━━━━━━━━━━━━━━━━━━━━━━\u001b[0m \u001b[32m232.1/232.1 kB\u001b[0m \u001b[31m13.5 MB/s\u001b[0m eta \u001b[36m0:00:00\u001b[0m\n",
            "\u001b[?25h\u001b[?25l   \u001b[90m━━━━━━━━━━━━━━━━━━━━━━━━━━━━━━━━━━━━━━━━\u001b[0m \u001b[32m0.0/95.2 kB\u001b[0m \u001b[31m?\u001b[0m eta \u001b[36m-:--:--\u001b[0m\r\u001b[2K   \u001b[90m━━━━━━━━━━━━━━━━━━━━━━━━━━━━━━━━━━━━━━━━\u001b[0m \u001b[32m95.2/95.2 kB\u001b[0m \u001b[31m6.2 MB/s\u001b[0m eta \u001b[36m0:00:00\u001b[0m\n",
            "\u001b[2K   \u001b[90m━━━━━━━━━━━━━━━━━━━━━━━━━━━━━━━━━━━━━━━━\u001b[0m \u001b[32m217.1/217.1 kB\u001b[0m \u001b[31m14.9 MB/s\u001b[0m eta \u001b[36m0:00:00\u001b[0m\n",
            "\u001b[2K   \u001b[90m━━━━━━━━━━━━━━━━━━━━━━━━━━━━━━━━━━━━━━━━\u001b[0m \u001b[32m334.1/334.1 kB\u001b[0m \u001b[31m19.2 MB/s\u001b[0m eta \u001b[36m0:00:00\u001b[0m\n",
            "\u001b[2K   \u001b[90m━━━━━━━━━━━━━━━━━━━━━━━━━━━━━━━━━━━━━━━━\u001b[0m \u001b[32m125.1/125.1 kB\u001b[0m \u001b[31m8.2 MB/s\u001b[0m eta \u001b[36m0:00:00\u001b[0m\n",
            "\u001b[2K   \u001b[90m━━━━━━━━━━━━━━━━━━━━━━━━━━━━━━━━━━━━━━━━\u001b[0m \u001b[32m65.8/65.8 kB\u001b[0m \u001b[31m4.2 MB/s\u001b[0m eta \u001b[36m0:00:00\u001b[0m\n",
            "\u001b[2K   \u001b[90m━━━━━━━━━━━━━━━━━━━━━━━━━━━━━━━━━━━━━━━━\u001b[0m \u001b[32m119.0/119.0 kB\u001b[0m \u001b[31m7.5 MB/s\u001b[0m eta \u001b[36m0:00:00\u001b[0m\n",
            "\u001b[2K   \u001b[90m━━━━━━━━━━━━━━━━━━━━━━━━━━━━━━━━━━━━━━━━\u001b[0m \u001b[32m194.9/194.9 kB\u001b[0m \u001b[31m11.1 MB/s\u001b[0m eta \u001b[36m0:00:00\u001b[0m\n",
            "\u001b[2K   \u001b[90m━━━━━━━━━━━━━━━━━━━━━━━━━━━━━━━━━━━━━━━━\u001b[0m \u001b[32m62.5/62.5 kB\u001b[0m \u001b[31m3.5 MB/s\u001b[0m eta \u001b[36m0:00:00\u001b[0m\n",
            "\u001b[2K   \u001b[90m━━━━━━━━━━━━━━━━━━━━━━━━━━━━━━━━━━━━━━━━\u001b[0m \u001b[32m103.3/103.3 kB\u001b[0m \u001b[31m6.2 MB/s\u001b[0m eta \u001b[36m0:00:00\u001b[0m\n",
            "\u001b[2K   \u001b[90m━━━━━━━━━━━━━━━━━━━━━━━━━━━━━━━━━━━━━━━━\u001b[0m \u001b[32m44.4/44.4 kB\u001b[0m \u001b[31m2.3 MB/s\u001b[0m eta \u001b[36m0:00:00\u001b[0m\n",
            "\u001b[2K   \u001b[90m━━━━━━━━━━━━━━━━━━━━━━━━━━━━━━━━━━━━━━━━\u001b[0m \u001b[32m72.0/72.0 kB\u001b[0m \u001b[31m4.6 MB/s\u001b[0m eta \u001b[36m0:00:00\u001b[0m\n",
            "\u001b[?25h"
          ]
        }
      ]
    },
    {
      "cell_type": "code",
      "execution_count": 8,
      "metadata": {
        "id": "aePV2bdfDeoW"
      },
      "outputs": [],
      "source": [
        "from google.adk.agents import Agent\n",
        "from google.adk.runners import Runner\n",
        "from google.adk.sessions import InMemorySessionService\n",
        "from google.adk.tools import google_search\n",
        "from google.genai import types  # Para criar conteúdos (Content e Part)\n",
        "from datetime import date\n",
        "import textwrap # Para formatar melhor a saída de texto\n",
        "from IPython.display import display, Markdown # Para exibir texto formatado no Colab\n",
        "import requests # Para fazer requisições HTTP\n",
        "import warnings\n",
        "\n",
        "warnings.filterwarnings(\"ignore\")"
      ]
    },
    {
      "cell_type": "code",
      "source": [
        "# Função auxiliar que envia uma mensagem para um agente via Runner e retorna a resposta final\n",
        "def call_agent(agent: Agent, message_text: str) -> str:\n",
        "    # Cria um serviço de sessão em memória\n",
        "    session_service = InMemorySessionService()\n",
        "    # Cria uma nova sessão (você pode personalizar os IDs conforme necessário)\n",
        "    session = session_service.create_session(app_name=agent.name, user_id=\"user1\", session_id=\"session1\")\n",
        "    # Cria um Runner para o agente\n",
        "    runner = Runner(agent=agent, app_name=agent.name, session_service=session_service)\n",
        "    # Cria o conteúdo da mensagem de entrada\n",
        "    content = types.Content(role=\"user\", parts=[types.Part(text=message_text)])\n",
        "\n",
        "    final_response = \"\"\n",
        "    # Itera assincronamente pelos eventos retornados durante a execução do agente\n",
        "    for event in runner.run(user_id=\"user1\", session_id=\"session1\", new_message=content):\n",
        "        if event.is_final_response():\n",
        "          for part in event.content.parts:\n",
        "            if part.text is not None:\n",
        "              final_response += part.text\n",
        "              final_response += \"\\n\"\n",
        "    return final_response"
      ],
      "metadata": {
        "id": "_xP4lWhsS5ko"
      },
      "execution_count": 9,
      "outputs": []
    },
    {
      "cell_type": "code",
      "source": [
        "# Função auxiliar para exibir texto formatado em Markdown no Colab\n",
        "def to_markdown(text):\n",
        "  text = text.replace('•', '  *')\n",
        "  return Markdown(textwrap.indent(text, '> ', predicate=lambda _: True))"
      ],
      "metadata": {
        "id": "8dosiodaxfFR"
      },
      "execution_count": 10,
      "outputs": []
    },
    {
      "cell_type": "code",
      "source": [
        "##################################\n",
        "# --- Agente 1: Brainstormer --- #\n",
        "##################################\n",
        "def agente_brainstormer(briefing):\n",
        "    brainstormer = Agent(\n",
        "        name=\"agente_brainstormer\",\n",
        "        model=\"gemini-2.0-flash\",\n",
        "        # Instruções do Agente de Brainstorming #################################################\n",
        "        instruction=\"\"\"\n",
        "          Haja como um time de brainstorming composto por diferentes perfis (O Pensador Criativo,\n",
        "          O Analista, O Executor, O Entusiasta, O Cético Construtivo, O Especialista). Você deve levantar ideias\n",
        "          de ações com base no briefing fornecido. O evento pode ser desde uma festa onde cada funcionário\n",
        "          pode trazer um item até uma festa épica em uma supercasa de eventos. Pode ter decorações temáticas,\n",
        "          convites especiais, impressos, banners, espaços instagramáveis, materiais de divulgação etc.,\n",
        "          desde que se adeque ao orçamento e requisitos fornecidos.  Você pode utilizar a ferramenta do Google (google_search)\n",
        "          para buscar informações sobre o tema pesquisar ideias, locais, fornecedores, brindes, materiais etc.\n",
        "          Ao final elenque as 5 melhores e mais criativas ideias de festa que podem servir ao tema proposto no briefing. Inclua o\n",
        "          slogan, as possíveis ações e atrações, ideias de materiais, brindes, peças de comunicação, decorações, alimentação etc.).\n",
        "        \"\"\",\n",
        "      description=\"Agente de brainstorming que gera ideias iniciais de eventos.\",\n",
        "      tools=[google_search]\n",
        "    )\n",
        "    entrada_do_agente_brainstorming = f\"Briefing:{briefing}\"\n",
        "    lista_de_ideias = call_agent(brainstormer, entrada_do_agente_brainstorming)\n",
        "    return lista_de_ideias"
      ],
      "metadata": {
        "id": "o8bqIfi_DyH8"
      },
      "execution_count": 14,
      "outputs": []
    },
    {
      "cell_type": "code",
      "source": [
        "###########################################\n",
        "# --- Agente 2: Planejador de eventos --- #\n",
        "###########################################\n",
        "def agente_planejador(briefing, lista_de_ideias, data_de_hoje):\n",
        "    planejador = Agent(\n",
        "        name=\"agente_planejador\",\n",
        "        model=\"gemini-2.0-flash\",\n",
        "        # Inserir as instruções do Agente Planejador #################################################\n",
        "        instruction=\"\"\"\n",
        "          Você é um especialista em eventos dentro do time de comunicação interna e endomarketing da PaperCare.\n",
        "          Seu objetivo é analisar as ideias iniciais levantadas na etapa de brainstorming e organizar o evento: criar a programação,\n",
        "          levantar as peças de comunicação necessárias, levantar custos e elaborar o cronograma de execução (compra de itens,\n",
        "          produção das peças de comunicação, minuto a minuto do evento etc.). Você pode mesclar itens de duas ou mais ideias no\n",
        "          planejamento do evento. Lembre-se de considerar a data de hoje e a data do evento no planejamento. Utilize a pesquisa do\n",
        "          Google (google_search) para buscar informações complementares para refinar o planejamento. Você pode contar com os canais\n",
        "          de comunicação da empresa (e-mail, murais de avisos, fundo de telas, intranet e TVs) e com o time de comunicação que conta\n",
        "          com pessoas que podem apoiar com desenvolvimento das artes. Ao final, gere uma apresentação com a proposta do evento. Essa apresentação\n",
        "          deverá conter um resumo sobre o evento, trazer o tema e slogan, programação do evento, plano de comunicação, plano de execução\n",
        "          e custos(importante especificar os nomes dos itens, quantidades, valores unitários e valores totais). Essa apresentação servirá para aprovação do evento pela gestão da empresa e será utilizada como base para criação dos\n",
        "          textos e peças de comunicação pelo time de comunicação.\n",
        "        \"\"\",\n",
        "        description=\"Agente que planeja os eventos\",\n",
        "        tools=[google_search]\n",
        "    )\n",
        "\n",
        "    entrada_do_agente_planejador = f\"Briefing:{briefing}\\nLista de Ideias: {lista_de_ideias}\\nData de início do Planejamento:{data_de_hoje}\"\n",
        "    # Executa o agente\n",
        "    plano_do_evento = call_agent(planejador, entrada_do_agente_planejador)\n",
        "    return plano_do_evento"
      ],
      "metadata": {
        "id": "y3VO1uo5_ghO"
      },
      "execution_count": 44,
      "outputs": []
    },
    {
      "cell_type": "code",
      "source": [
        "#################################\n",
        "# --- Agente 3: Comunicação --- #\n",
        "#################################\n",
        "def agente_comunicador(briefing, plano_do_evento):\n",
        "    comunicador = Agent(\n",
        "        name=\"agente_comunicador\",\n",
        "        model=\"gemini-2.0-flash\",\n",
        "        instruction=\"\"\"\n",
        "            Você é um especialista de comunicação da PaperCare. Sua função é elaborar os textos\n",
        "            para as peças de comunicação propostas no plano do evento. As comunicações devem ser integradas\n",
        "            entre si e com o core da empresa. Os textos devem levar em consideração as especificações\n",
        "            fornecidas pelo briefing e plano no evento.\n",
        "            Os textos devem ser de leitura rápida, engajadores, informativo, com linguagem simples e incluir 3 a 5 hashtags no final.\n",
        "            Todos os materiais, preferencialmente, devem ter o mesmo título e slogan para reforçar o propósito do evento e comunicação.\n",
        "            \"\"\",\n",
        "        description=\"Agente criador dos textos das comunicações do evento.\"\n",
        "    )\n",
        "    entrada_do_agente_comunicador = f\"Briefing:{briefing}\\nPlano do Evento: {plano_do_evento}\"\n",
        "    # Executa o agente\n",
        "    draft_comunicacao = call_agent(comunicador, entrada_do_agente_comunicador)\n",
        "    return draft_comunicacao"
      ],
      "metadata": {
        "id": "uOqlg2TRLVh1"
      },
      "execution_count": 37,
      "outputs": []
    },
    {
      "cell_type": "code",
      "source": [
        "#######################################\n",
        "# --- Agente 4: Revisor do Evento --- #\n",
        "#######################################\n",
        "def agente_revisor(briefing, plano_do_evento,draft_comunicacao):\n",
        "    revisor = Agent(\n",
        "        name=\"agente_revisor\",\n",
        "        model=\"gemini-2.0-flash\",\n",
        "        instruction=\"\"\"\n",
        "            Você é o gestor e especialista em comunicação, endomarketing e experiencia do colaborador\n",
        "            da PaperCare. Sua função é revisar os drafts das comunicações e verificar se as comunicações\n",
        "            estão alinhadas com o Briefing e Plano do Evento. Caso haja melhorias, sugira alterações.\n",
        "            Caso esteja tudo certo, sinalize apenas com “Aprovado! Podem seguir.”\n",
        "            \"\"\",\n",
        "        description=\"Agente revisor da comunicação do evento.\"\n",
        "    )\n",
        "    entrada_do_agente_revisor = f\"Briefing:{briefing}\\nPlano do Evento: {plano_do_evento}\\nDraft da Comunicação: {draft_comunicacao}\"\n",
        "    # Executa o agente\n",
        "    comunicacao_revisada = call_agent(revisor, entrada_do_agente_revisor)\n",
        "    return comunicacao_revisada"
      ],
      "metadata": {
        "id": "_aTb1SdkLeT6"
      },
      "execution_count": 38,
      "outputs": []
    },
    {
      "cell_type": "code",
      "source": [
        "#######################################\n",
        "# --- Formulário de Briefing --- #\n",
        "#######################################\n",
        "\n",
        "def coletar_briefing():\n",
        "    #Coleta informações do briefing do evento corporativo através de inputs validados.\n",
        "\n",
        "    briefing = {}\n",
        "\n",
        "    # Tipo de evento\n",
        "    while True:\n",
        "        tipo_evento = input(\"Qual o tipo de evento (Festa de final de ano, convenção, aniversário da empresa, campanha etc.)? \").strip()\n",
        "        if tipo_evento:\n",
        "            briefing['tipo_evento'] = tipo_evento\n",
        "            break\n",
        "        else:\n",
        "            print(\"Por favor, informe o tipo de evento.\")\n",
        "\n",
        "    # Tema\n",
        "    briefing['tema'] = input(\"Qual é o tema? \").strip()\n",
        "\n",
        "    # Data/período do evento\n",
        "    while True:\n",
        "        data_periodo = input(\"Data/período do evento? \").strip()\n",
        "        if data_periodo:\n",
        "            briefing['data_periodo'] = data_periodo\n",
        "            break\n",
        "        else:\n",
        "            print(\"Por favor, informe a data ou período do evento.\")\n",
        "\n",
        "    # Horário\n",
        "    while True:\n",
        "        horario = input(\"Horário? \").strip()\n",
        "        if horario:\n",
        "            briefing['horario'] = horario\n",
        "            break\n",
        "        else:\n",
        "            print(\"Por favor, informe o horário do evento.\")\n",
        "\n",
        "    # Público do evento - Número de pessoas\n",
        "    while True:\n",
        "        try:\n",
        "            num_pessoas = int(input(\"Público do evento: Número de pessoas? \"))\n",
        "            if num_pessoas > 0:\n",
        "                briefing['num_pessoas'] = num_pessoas\n",
        "                break\n",
        "            else:\n",
        "                print(\"Por favor, informe um número de pessoas válido.\")\n",
        "        except ValueError:\n",
        "            print(\"Por favor, insira um número inteiro para a quantidade de pessoas.\")\n",
        "\n",
        "    # Público do evento - Perfil/público-alvo\n",
        "    briefing['perfil_publico'] = input(\"Público do evento: Perfil/público-alvo (%mulheres x homens, faixa de idade, alta gestão, toda companhia, pessoal do escritório etc.)? \").strip()\n",
        "\n",
        "    # Orçamento previsto\n",
        "    while True:\n",
        "        try:\n",
        "            orcamento = float(input(\"Orçamento previsto em Reais (R$)? \"))\n",
        "            if orcamento >= 0:\n",
        "                briefing['orcamento'] = orcamento\n",
        "                break\n",
        "            else:\n",
        "                print(\"Por favor, informe um orçamento válido em reais (R$).\")\n",
        "        except ValueError:\n",
        "            print(\"Por favor, insira um valor numérico para o orçamento.\")\n",
        "\n",
        "    # O que precisa ter\n",
        "    briefing['precisa_ter'] = input(\"O que precisa ter? \").strip()\n",
        "\n",
        "    # Restrições\n",
        "    briefing['restricoes'] = input(\"Restrições: \").strip()\n",
        "\n",
        "    # Informações complementares\n",
        "    info_complementares = \"\"\"\n",
        "    · A PaperCare é uma empresa fabricante de papel (consumo, profissional e industrial) e produtos de cuidados pessoais (absorventes e fraldas).\n",
        "    · Tem cerca de 1200 funcionários distribuídos em 2 plantas fabris (com 870 e 215 funcionários), 1 escritório (85 funcionários) e time comercial (30 funcionários). A empresa tem 57 anos de existência e tem como lema “Nosso papel é construir o futuro”.\n",
        "    · Perfil do publico: 72% masculino; 28% feminino; 5% LGBTQIAP+; 80% do time das fábricas é operacional.\n",
        "    · As áreas fabris funcionam 24 horas por dia. Os operadores estão divididos em 4 equipes que rodam turnos de 8 horas. A cada 5 dias essas equipes fazem um rodízio de turno, sendo que uma das equipes fica de folga.\n",
        "    · O escritório, áreas administrativas e time comercial trabalham em horário comercial. Os times comerciais atuam fora do escritório.\n",
        "    · Considere que o time de Comunicação e Endomarleting é reduzido para produzir e executar o evento. Composição: 3 integrantes no escritório central + 1 apoio em cada fabrica.\n",
        "    \"\"\"\n",
        "\n",
        "    # Formatar a saída como um texto, incluindo as informações complementares\n",
        "    texto_briefing = f\"\"\"\n",
        "    Briefing do Evento:\n",
        "\n",
        "    Tipo de Evento: {briefing['tipo_evento']}\n",
        "    Tema: {briefing['tema']}\n",
        "    Data/Período: {briefing['data_periodo']}\n",
        "    Horário: {briefing['horario']}\n",
        "    Público - Número de Pessoas: {briefing['num_pessoas']}\n",
        "    Público - Perfil: {briefing['perfil_publico']}\n",
        "    Orçamento Previsto(R$): {briefing['orcamento']}\n",
        "    Precisa Ter: {briefing['precisa_ter']}\n",
        "    Restrições: {briefing['restricoes']}\n",
        "\n",
        "    Informações complementares:{info_complementares}\n",
        "    \"\"\"\n",
        "\n",
        "    return texto_briefing"
      ],
      "metadata": {
        "id": "2g1zvwU_HhPc"
      },
      "execution_count": 42,
      "outputs": []
    },
    {
      "cell_type": "code",
      "source": [
        "data_de_hoje = date.today().strftime(\"%d/%m/%Y\")\n",
        "\n",
        "print(\"ASSISTENTE BUSINESS PARTY\")\n",
        "print(\"Olá sou seu assistente personalizado da PaperCare e estou aqui para auxiliá-lo a produzir os eventos da companhia.\")\n",
        "\n",
        "# Inserir lógica do sistema de agentes ################################################\n",
        "\n",
        "# --- Obter o Briefing do Usuário ---\n",
        "print(\"Vamos a primeira etapa. O Briefing:\")\n",
        "briefing = coletar_briefing()\n",
        "\n",
        "# --- Resumo do Briefing ---\n",
        "print(\"\\n--- Resumo do Briefing ---\\n\")\n",
        "display(to_markdown(briefing))\n",
        "print(\"----------------------------------------------------------------\")\n",
        "\n",
        "# --- Etapa de Brainstorming ---\n",
        "lista_de_ideias = agente_brainstormer(briefing)\n",
        "print(\"\\n--- Resultado da Etapa de Brainstorming ---\\n\")\n",
        "display(to_markdown(lista_de_ideias))\n",
        "print(\"----------------------------------------------------------------\")\n",
        "\n",
        "# --- Etapa de Planejamento ---\n",
        "plano_do_evento = agente_planejador(briefing, lista_de_ideias, data_de_hoje)\n",
        "print(\"\\n--- Resultado da Etapa de Planejamento ---\\n\")\n",
        "display(to_markdown(plano_do_evento))\n",
        "print(\"----------------------------------------------------------------\")\n",
        "\n",
        "# --- Etapa de Criação da Comunicação ---\n",
        "draft_comunicacao = agente_comunicador(briefing, plano_do_evento)\n",
        "print(\"\\n--- Resultado da Etapa de Criação da Comunicação ---\\n\")\n",
        "display(to_markdown(draft_comunicacao))\n",
        "print(\"----------------------------------------------------------------\")\n",
        "\n",
        "# --- Etapa de Revisão da Comunicação ---\n",
        "comunicacao_revisada = agente_revisor(briefing, plano_do_evento,draft_comunicacao)\n",
        "print(\"\\n--- Resultado da Etapa de Revisão da Comunicação ---\\n\")\n",
        "display(to_markdown(comunicacao_revisada))\n",
        "print(\"----------------------------------------------------------------\")\n",
        "print(f\"ASSISTENTE BUSINESS PARTY - IROTSUKA - {data_de_hoje}\")\n",
        "print(f\"####################################################\")\n",
        "print(f\"#  LINKEDIN:https://www.linkedin.com/in/irotsuka/  #\")\n",
        "print(f\"#  GITHUB: https://github.com/i-otsuka             #\")\n",
        "print(f\"####################################################\")"
      ],
      "metadata": {
        "id": "630ummxz4myx",
        "colab": {
          "base_uri": "https://localhost:8080/",
          "height": 1000
        },
        "outputId": "bb96df4c-f916-406e-8a58-7ebe66cda44b"
      },
      "execution_count": 45,
      "outputs": [
        {
          "output_type": "stream",
          "name": "stdout",
          "text": [
            "ASSISTENTE BUSINESS PARTY\n",
            "Olá sou seu assistente personalizado da PaperCare e estou aqui para auxiliá-lo a produzir os eventos da companhia.\n",
            "Vamos a primeira etapa. O Briefing:\n",
            "Qual o tipo de evento (Festa de final de ano, convenção, aniversário da empresa, campanha etc.)? Convenção de Vendas\n",
            "Qual é o tema? 2025 o ano da superação\n",
            "Data/período do evento? 8 a 11 de julhp de 2025.\n",
            "Horário? Dia 8 das 10h as 17h; 9 e 10 das 9h as 20h; 11 das 9h as 14h.\n",
            "Público do evento: Número de pessoas? Time comercial mais 30 pessoas das áreas de marketing, recursos humanos e TI.\n",
            "Por favor, insira um número inteiro para a quantidade de pessoas.\n",
            "Público do evento: Número de pessoas? 70\n",
            "Público do evento: Perfil/público-alvo (%mulheres x homens, faixa de idade, alta gestão, toda companhia, pessoal do escritório etc.)? Todo o time comercial, mais integrandes das áreas de marketing, recursos humanos e ti.\n",
            "Orçamento previsto em Reais (R$)? 40000\n",
            "O que precisa ter? Reuniões de venda com time de mkt, momento ara troca dos notebooks, atualização cadastral junto com RH.\n",
            "Restrições: Necessário local com acessibilidade pois temos dois funcionários cadeirantes.\n",
            "\n",
            "--- Resumo do Briefing ---\n",
            "\n"
          ]
        },
        {
          "output_type": "display_data",
          "data": {
            "text/plain": [
              "<IPython.core.display.Markdown object>"
            ],
            "text/markdown": "> \n>     Briefing do Evento:\n> \n>     Tipo de Evento: Convenção de Vendas\n>     Tema: 2025 o ano da superação\n>     Data/Período: 8 a 11 de julhp de 2025.\n>     Horário: Dia 8 das 10h as 17h; 9 e 10 das 9h as 20h; 11 das 9h as 14h.\n>     Público - Número de Pessoas: 70\n>     Público - Perfil: Todo o time comercial, mais integrandes das áreas de marketing, recursos humanos e ti.\n>     Orçamento Previsto(R$): 40000.0\n>     Precisa Ter: Reuniões de venda com time de mkt, momento ara troca dos notebooks, atualização cadastral junto com RH.\n>     Restrições: Necessário local com acessibilidade pois temos dois funcionários cadeirantes.\n> \n>     Informações complementares:\n>     · A PaperCare é uma empresa fabricante de papel (consumo, profissional e industrial) e produtos de cuidados pessoais (absorventes e fraldas). \n>     · Tem cerca de 1200 funcionários distribuídos em 2 plantas fabris (com 870 e 215 funcionários), 1 escritório (85 funcionários) e time comercial (30 funcionários). A empresa tem 57 anos de existência e tem como lema “Nosso papel é construir o futuro”.\n>     · Perfil do publico: 72% masculino; 28% feminino; 5% LGBTQIAP+; 80% do time das fábricas é operacional.\n>     · As áreas fabris funcionam 24 horas por dia. Os operadores estão divididos em 4 equipes que rodam turnos de 8 horas. A cada 5 dias essas equipes fazem um rodízio de turno, sendo que uma das equipes fica de folga.\n>     · O escritório, áreas administrativas e time comercial trabalham em horário comercial. Os times comerciais atuam fora do escritório.\n>     · Considere que o time de Comunicação e Endomarleting é reduzido para produzir e executar o evento. Composição: 3 integrantes no escritório central + 1 apoio em cada fabrica.\n>     \n>     "
          },
          "metadata": {}
        },
        {
          "output_type": "stream",
          "name": "stdout",
          "text": [
            "----------------------------------------------------------------\n",
            "\n",
            "--- Resultado da Etapa de Brainstorming ---\n",
            "\n"
          ]
        },
        {
          "output_type": "display_data",
          "data": {
            "text/plain": [
              "<IPython.core.display.Markdown object>"
            ],
            "text/markdown": "> Okay, vamos gerar algumas ideias criativas para a convenção de vendas da PaperCare com o tema \"2025: O Ano da Superação\", considerando o orçamento, público e restrições.\n> \n> \n> Com base no briefing e nas pesquisas, aqui estão 5 ideias criativas para a convenção de vendas da PaperCare:\n> \n> **1. Tema:** PaperCare: Rumo ao Topo! 2025, Nossa Escalada da Superação\n> *   **Slogan:** \"Juntos, no nosso papel, construímos o futuro no topo!\"\n> *   **Ações e Atrações:**\n>     *   **Decoração:** Cenário que remete a uma escalada, com montanhas (podem ser de papelão ou tecido), cordas, picos nevados (algodão ou isopor), e pegadas no chão. Cores vibrantes e inspiradoras. Espaço instagramável com asas de anjo e a hashtag #PaperCareNoTopo.\n>     *   **Atividades:** Dinâmicas de grupo com foco em superação de obstáculos, planejamento estratégico com visualização de metas no topo da montanha, palestra motivacional com um escalador famoso ou especialista em resiliência. Apresentação teatral com a história da PaperCare como uma jornada de superação.\n>     *   **Alimentação:** Cardápio que remete a \"comida de montanha\", com opções energéticas e reconfortantes.\n>     *   **Brindes:** Kit de \"escalada\" com garrafa de água personalizada, barra de cereais, protetor solar, boné e uma mini bússola.\n>     *   **Comunicação:** Convites personalizados com um \"mapa da mina\" da convenção, banners com fotos dos colaboradores \"escalando\" desafios, vídeos motivacionais com depoimentos dos funcionários.\n> \n> **2. Tema:** PaperCare Supera: Nossa Liga de Heróis de Vendas\n> *   **Slogan:** \"Em 2025, somos a força invencível da PaperCare!\"\n> *   **Ações e Atrações:**\n>     *   **Decoração:** Ambientação inspirada em histórias em quadrinhos de super-heróis. Cores vibrantes, balões de fala com mensagens motivacionais, painel com os \"superpoderes\" de cada área da empresa (ex: \"Visão de Raio-X do Marketing\", \"Força Inabalável do RH\").\n>     *   **Atividades:** Cada participante recebe uma \"capa\" personalizada com seu nome e \"superpoder\". Apresentação dos resultados do ano como se fossem \"missões cumpridas\". Dinâmicas de grupo para desenvolver \"superpoderes\" como comunicação, negociação e trabalho em equipe. Premiação dos \"Heróis do Ano\" com troféus temáticos.\n>     *   **Alimentação:** \"Super lanches\" com nomes criativos, como \"Sanduíche do Hulk\", \"Energia do Flash\", \"Suco da Mulher Maravilha\".\n>     *   **Brindes:** Caneca personalizada com o logo da \"Liga PaperCare\", power bank com o tema de super-herói, capa de chuva personalizada (afinal, heróis também se protegem da chuva!).\n>     *   **Comunicação:** Convites em formato de HQ, teasers com mensagens enigmáticas dos \"super-heróis\" da PaperCare, backdrop para fotos com a logo da \"Liga\".\n> \n> **3. Tema:** PaperCare 2025: Game On! A Virada do Século\n> *   **Slogan:** \"Em 2025, PaperCare: Jogamos juntos, vencemos juntos!\"\n> *   **Ações e Atrações:**\n>     *   **Decoração:** Cenário que remete a jogos de videogame, com cores neon, elementos pixelados, e referências a jogos clássicos e atuais. Telões exibindo gráficos e animações.\n>     *   **Atividades:** Competição de jogos (virtuais ou de tabuleiro) com temas relacionados ao trabalho, quizzes sobre a história da PaperCare, \"hackathons\" para encontrar soluções inovadoras para os desafios da empresa. Premiação dos melhores \"gamers\" com brindes tecnológicos.\n>     *   **Alimentação:** Cardápio com \"comida de gamer\", como pizza, hambúrguer, batata frita e energéticos.\n>     *   **Brindes:** Fone de ouvido gamer, mini console de videogame, vale-presente para loja de jogos online, camiseta personalizada com a logo da PaperCare em estilo \"gamer\".\n>     *   **Comunicação:** Convites em formato de \"cartão de memória\", vídeos com depoimentos dos funcionários em estilo \"gameplay\", posts nas redes sociais com a hashtag #PaperCareGameOn.\n> \n> **4. Tema:** PaperCare Conecta: Nossa Sinfonia de Talentos Rumo a 2025\n> *   **Slogan:** \"Em 2025, PaperCare: Uma orquestra de talentos, uma sinfonia de sucesso!\"\n> *   **Ações e Atrações:**\n>     *   **Decoração:** Ambientação inspirada em música, com instrumentos musicais, partituras, luzes que remetem a um show. Cores suaves e elegantes.\n>     *   **Atividades:** Formação de uma \"banda PaperCare\" com os funcionários, apresentação de um coral com músicas motivacionais, dinâmicas de grupo para afinar a comunicação e o trabalho em equipe, palestra com um maestro ou músico inspirador.\n>     *   **Alimentação:** Cardápio sofisticado com nomes de pratos inspirados em músicas clássicas, como \"Allegro de Frutos do Mar\", \"Sonata de Legumes\", \"Concerto de Chocolate\".\n>     *   **Brindes:** Fone de ouvido com cancelamento de ruído, caixinha de música personalizada com o tema da PaperCare, instrumento musical (ex: apito, ukulele) com a logo da empresa.\n>     *   **Comunicação:** Convites personalizados com uma \"partitura\" da convenção, vídeos com depoimentos dos funcionários em estilo \"videoclipe\", posts nas redes sociais com a hashtag #PaperCareConecta.\n> \n> **5. Tema:** PaperCare Sustentável: Plantando o Futuro, Colhendo Superação em 2025\n> *   **Slogan:** \"Em 2025, PaperCare: Cuidamos do planeta, cultivamos o sucesso!\"\n> *   **Ações e Atrações:**\n>     *   **Decoração:** Ambientação inspirada na natureza, com plantas, flores, árvores (de verdade ou artificiais), materiais reciclados, cores verde e marrom.\n>     *   **Atividades:** Oficina de jardinagem, palestra sobre sustentabilidade e responsabilidade social, dinâmicas de grupo para encontrar soluções para reduzir o impacto ambiental da empresa, ação de plantio de árvores em uma área degradada.\n>     *   **Alimentação:** Cardápio orgânico e vegetariano, com ingredientes frescos e da estação.\n>     *   **Brindes:** Kit de jardinagem com sementes e ferramentas, ecobag personalizada, caneca reutilizável de bambu, squeeze de alumínio.\n>     *   **Comunicação:** Convites em papel reciclado com sementes, vídeos com depoimentos dos funcionários sobre suas práticas sustentáveis, posts nas redes sociais com a hashtag #PaperCareSustentável.\n> \n> **Considerações Importantes:**\n> \n> *   **Acessibilidade:** Todos os locais e atividades devem ser acessíveis para os funcionários cadeirantes, com rampas, elevadores, banheiros adaptados e espaços amplos para circulação.\n> *   **Orçamento:** É fundamental pesquisar preços e negociar com fornecedores para garantir que as ideias se encaixem no orçamento de R$40.000. Priorizar o que é mais importante para o evento (ex: local, palestrante, brindes) e buscar alternativas mais econômicas para o restante.\n> *   **Público:** Considerar o perfil do público (72% masculino, 28% feminino, 5% LGBTQIAP+, 80% do time das fábricas é operacional) ao escolher as atividades, brindes e peças de comunicação. Buscar temas e atrações que agradem a todos os públicos.\n> *   **Restrições de Tempo:** Considerar os horários de trabalho das áreas fabris ao planejar as atividades. Buscar horários e atividades que permitam a participação de todos os funcionários.\n> \n> Espero que essas ideias sirvam de inspiração para a convenção de vendas da PaperCare!\n"
          },
          "metadata": {}
        },
        {
          "output_type": "stream",
          "name": "stdout",
          "text": [
            "----------------------------------------------------------------\n",
            "\n",
            "--- Resultado da Etapa de Planejamento ---\n",
            "\n"
          ]
        },
        {
          "output_type": "display_data",
          "data": {
            "text/plain": [
              "<IPython.core.display.Markdown object>"
            ],
            "text/markdown": "> Com certeza! Analisei as ideias e preparei uma proposta de evento com foco em superação, engajamento e alinhamento estratégico para a Convenção de Vendas 2025 da PaperCare.\n> \n> \n> ## Apresentação da Proposta da Convenção de Vendas PaperCare 2025\n> \n> ### Resumo do Evento\n> \n> *   **Nome do Evento:** Convenção de Vendas PaperCare 2025\n> *   **Tema:** 2025: O Ano da Superação\n> *   **Público:** Equipe comercial, marketing, RH e TI (70 pessoas)\n> *   **Local:** Espaço acessível em São Paulo com capacidade para 70 pessoas.\n> *   **Data:** 8 a 11 de julho de 2025\n> *   **Objetivo:** Alinhar estratégias, motivar a equipe, celebrar conquistas e preparar o time para um ano de superação.\n> \n> ### Tema e Slogan\n> \n> *   **Tema:** PaperCare: Rumo ao Topo! 2025, Nossa Escalada da Superação\n> *   **Slogan:** Juntos, no nosso papel, construímos o futuro no topo!\n> \n> ### Programação do Evento\n> \n> | Data      | Horário           | Atividade                                                                               | Descrição                                                                                                                                                                                   |\n> | :-------- | :---------------- | :-------------------------------------------------------------------------------------- | :------------------------------------------------------------------------------------------------------------------------------------------------------------------------------------------ |\n> | 08/07/2025 | 10h00 - 11h00    | Abertura e Boas-vindas                                                                | Apresentação da liderança, dinâmicas de integração e café da manhã                                                                                                                             |\n> |             | 11h00 - 12h30    | Reunião Estratégica com Marketing                                                     | Discussão sobre as estratégias de vendas alinhadas com as ações de marketing para 2025                                                                                                     |\n> |             | 12h30 - 14h00    | Almoço                                                                                 | Cardápio com opções variadas e saborosas                                                                                                                                                  |\n> |             | 14h00 - 15h30    | Momento RH: Atualização Cadastral                                                      | Atualização de informações dos colaboradores e apresentação de novos benefícios                                                                                                            |\n> |             | 15h30 - 17h00    | Troca de Notebooks                                                                     | Distribuição de novos equipamentos e treinamento rápido sobre as novas funcionalidades                                                                                                    |\n> | 09/07/2025 | 09h00 - 10h30    | Dinâmica de Grupo: Escalada da Superação                                               | Atividade para fortalecer o trabalho em equipe e a resiliência                                                                                                                            |\n> |             | 10h30 - 12h00    | Palestra Motivacional                                                                  | Palestrante renomado para inspirar e motivar a equipe                                                                                                                                |\n> |             | 12h00 - 14h00    | Almoço                                                                                 | Cardápio temático \"Comida de Montanha\", com opções energéticas                                                                                                                          |\n> |             | 14h00 - 15h30    | Apresentação Teatral: A Jornada PaperCare                                              | Peça que conta a história da empresa como uma trajetória de sucesso e superação                                                                                                             |\n> |             | 15h30 - 17h00    | Espaço Instagramável e Coffee Break                                                    | Momento para fotos e descontração em um ambiente temático                                                                                                                                 |\n> |             | 17h00 - 20h00    | Jantar de Confraternização                                                             | Jantar em um local especial com música e momentos de networking                                                                                                                               |\n> | 10/07/2025 | 09h00 - 10h30    | Reuniões por Área: Desafios e Soluções                                                 | Discussão de temas específicos de cada área com foco em melhorias e inovações                                                                                                                 |\n> |             | 10h30 - 12h00    | Workshop: Ferramentas de Vendas 2025                                                  | Treinamento sobre as novas tecnologias e metodologias para impulsionar as vendas                                                                                                             |\n> |             | 12h00 - 14h00    | Almoço                                                                                 | Cardápio variado para atender a todos os gostos                                                                                                                                             |\n> |             | 14h00 - 15h30    | Mesa Redonda: Cases de Sucesso                                                        | Compartilhamento de experiências e aprendizados entre os membros da equipe                                                                                                                     |\n> |             | 15h30 - 17h00    | Dinâmica de Integração: Construindo o Futuro                                             | Atividade lúdica para reforçar a visão da empresa e o compromisso de todos                                                                                                                  |\n> |             | 17h00 - 20h00    | Happy Hour Temático                                                                    | Celebração das conquistas com música, petiscos e bebidas                                                                                                                                    |\n> | 11/07/2025 | 09h00 - 11h00    | Premiação: Heróis da Superação                                                        | Reconhecimento dos colaboradores que se destacaram ao longo do ano                                                                                                                            |\n> |             | 11h00 - 12h00    | Apresentação dos Resultados e Metas 2025                                              | Visão geral do desempenho da empresa e projeções para o futuro                                                                                                                              |\n> |             | 12h00 - 14h00    | Almoço de Encerramento                                                                | Mensagens finais e agradecimentos                                                                                                                                                            |\n> \n> ### Plano de Comunicação\n> \n> *   **Canais:** E-mail, murais de avisos, fundo de tela, intranet e TVs corporativas.\n> *   **Peças:**\n>     *   Convite digital interativo com o tema da convenção.\n>     *   Teasers semanais com mensagens motivacionais e informações sobre o evento.\n>     *   Vídeos curtos com depoimentos dos líderes sobre a importância da superação.\n>     *   Banners e cartazes com fotos dos colaboradores \"escalando\" desafios.\n>     *   Cobertura do evento em tempo real nas redes sociais da empresa.\n>     *   E-mail de agradecimento pós-evento com os melhores momentos e próximos passos.\n> *   **Cronograma:** Início da comunicação 60 dias antes do evento, intensificando-se nas semanas que o antecedem.\n> \n> ### Plano de Execução\n> \n> | Tarefa                                    | Responsável                                  | Prazo      |\n> | :---------------------------------------- | :------------------------------------------- | :--------- |\n> | Definição do local do evento                | Time de Comunicação e Endomarketing           | 24/05/2025 |\n> | Contratação de palestrante e atrações       | Time de Comunicação e Endomarketing           | 31/05/2025 |\n> | Criação das peças de comunicação          | Time de Comunicação (apoio das fábricas)    | 15/06/2025 |\n> | Produção de brindes personalizados         | Time de Compras                               | 22/06/2025 |\n> | Logística e organização do evento          | Time de Comunicação e Apoio Administrativo | 01/07/2025 |\n> | Execução do evento                          | Time de Comunicação e Equipe de Apoio        | 08-11/07/2025 |\n> | Pesquisa de satisfação pós-evento          | Time de Comunicação e RH                    | 18/07/2025 |\n> \n> ### Custos\n> \n> | Item                               | Quantidade | Valor Unitário (R$) | Valor Total (R$) |\n> | :--------------------------------- | :--------- | :------------------ | :--------------- |\n> | Aluguel do espaço                    | 4 dias     | 4.000,00            | 16.000,00        |\n> | Palestrante motivacional             | 1          | 8.000,00            | 8.000,00         |\n> | Alimentação (coffee, almoço, jantar) | 70 pessoas | 150,00              | 10.500,00        |\n> | Brindes personalizados (ecobags, canetas de bambu, garrafas de água reutilizáveis)      | 70       | 30,00          | 2.100,00         |\n> | Material de comunicação (banners, convites, etc.) | -       | -                  | 1.500,00         |\n> | Apresentação Teatral               | 1          | 1.000,00            | 1.000,00         |\n> | Outros (transporte, imprevistos)  | -          | -                  | 900,00         |\n> | **TOTAL**                         |            |                     | **40.000,00**    |\n> \n> **Observações:**\n> \n> *   Os valores apresentados são estimativas e podem variar de acordo com a negociação com fornecedores.\n> *   Priorizar fornecedores locais e com práticas sustentáveis.\n> *   Buscar alternativas criativas e econômicas para reduzir custos sem comprometer a qualidade do evento.\n> \n> Com este plano detalhado, a Convenção de Vendas PaperCare 2025 tem tudo para ser um sucesso, inspirando e preparando a equipe para um ano de grandes conquistas!\n> \n"
          },
          "metadata": {}
        },
        {
          "output_type": "stream",
          "name": "stdout",
          "text": [
            "----------------------------------------------------------------\n",
            "\n",
            "--- Resultado da Etapa de Criação da Comunicação ---\n",
            "\n"
          ]
        },
        {
          "output_type": "display_data",
          "data": {
            "text/plain": [
              "<IPython.core.display.Markdown object>"
            ],
            "text/markdown": "> ## Sugestões de Textos para as Peças de Comunicação da Convenção de Vendas PaperCare 2025\n> \n> **Título Comum:** PaperCare: Rumo ao Topo! 2025, Nossa Escalada da Superação\n> **Slogan Comum:** Juntos, no nosso papel, construímos o futuro no topo!\n> \n> **1. Convite Digital Interativo:**\n> \n> *   **Título:** PaperCare: Rumo ao Topo! 2025, Nossa Escalada da Superação\n> *   **Texto:** Prepare-se para a Convenção de Vendas PaperCare 2025! Uma jornada de 4 dias rumo ao sucesso, com muito aprendizado, networking e momentos inesquecíveis. Juntos, vamos construir um futuro no topo!\n> *   **Slogan:** Juntos, no nosso papel, construímos o futuro no topo!\n> *   **CTA:** Confirme sua presença e prepare-se para decolar!\n> *   **Hashtags:** #PaperCareNoTopo #Superação2025 #JuntosNoNossoPapel #ConvençãoDeVendas #RumoAoSucesso\n> \n> **2. Teasers Semanais (E-mail, Mural, Intranet):**\n> \n> *   **Título:** PaperCare: Rumo ao Topo! 2025, Nossa Escalada da Superação - Semana [Número da Semana]\n> *   **Texto:**\n>     *   **Semana 1:** Acredite, PaperCare! O topo te espera! Prepare-se para a Convenção de Vendas 2025, onde vamos traçar juntos o caminho para um ano de superação. Fique ligado para mais novidades!\n>     *   **Semana 2:** Desafios nos impulsionam, PaperCare! Descubra como vamos escalar juntos os obstáculos e alcançar nossos objetivos na Convenção de Vendas 2025.\n>     *   **Semana 3:** A união faz a força, PaperCare! Conecte-se com seus colegas, troque ideias e fortaleça o espírito de equipe na Convenção de Vendas 2025. O topo é nosso!\n>     *   **Semana 4:** O futuro se constrói agora, PaperCare! Saiba tudo sobre as novidades e estratégias para 2025 na Convenção de Vendas. Imperdível!\n> *   **Slogan:** Juntos, no nosso papel, construímos o futuro no topo!\n> *   **Hashtags:** #PaperCareNoTopo #Superação2025 #JuntosNoNossoPapel #ConvençãoDeVendas #Motivação\n> \n> **3. Vídeos Curtos com Depoimentos dos Líderes:**\n> \n> *   **Título:** PaperCare: Rumo ao Topo! 2025, Nossa Escalada da Superação - Mensagem da Liderança\n> *   **Roteiro:** (Ajustar para cada líder)\n>     *   **Líder:** \"Olá, time PaperCare! A Convenção de Vendas 2025 é o momento de celebrarmos nossas conquistas e nos prepararmos para um ano ainda mais desafiador. Acredito no potencial de cada um de vocês para superarmos qualquer obstáculo e levarmos a PaperCare ao topo!\"\n>     *   **Slogan:** \"Juntos, no nosso papel, construímos o futuro no topo!\"\n> *   **Hashtags:** #PaperCareNoTopo #Superação2025 #Liderança #Motivação #ConvençãoDeVendas\n> \n> **4. Banners e Cartazes (Com fotos dos colaboradores \"escalando\" desafios):**\n> \n> *   **Título:** PaperCare: Rumo ao Topo! 2025, Nossa Escalada da Superação\n> *   **Texto:** \"Nosso time não tem medo de altura! 💪 Junte-se a nós na Convenção de Vendas PaperCare 2025 e prepare-se para escalar novos desafios e alcançar o sucesso!\"\n> *   **Slogan:** Juntos, no nosso papel, construímos o futuro no topo!\n> *   **Hashtags:** #PaperCareNoTopo #Superação2025 #TimePaperCare #Desafios #ConvençãoDeVendas\n> \n> **5. Cobertura do Evento em Tempo Real (Redes Sociais):**\n> \n> *   **Posts:**\n>     *   \"Começou a Convenção de Vendas PaperCare 2025! Energia lá em cima para construirmos juntos um ano de superação! #PaperCareNoTopo #Superação2025\"\n>     *   \"Dinâmica de grupo 'Escalada da Superação' rolando agora! Trabalho em equipe e muita garra para alcançar o topo! #JuntosNoNossoPapel #TimeUnido\"\n>     *   \"Palestra incrível com [Nome do Palestrante]! Inspiração e motivação para encarar os desafios de 2025! #Motivação #Superação\"\n>     *   \"Jantar de confraternização: celebrando as conquistas e fortalecendo os laços da equipe PaperCare! #Celebração #TimePaperCare\"\n> *   **Stories:**\n>     *   Bastidores das atividades, entrevistas rápidas com os participantes, enquetes, etc.\n> *   **Hashtags:** #PaperCareNoTopo #Superação2025 #JuntosNoNossoPapel #ConvençãoDeVendas #TimePaperCare\n> \n> **6. E-mail de Agradecimento Pós-Evento:**\n> \n> *   **Título:** PaperCare: Rumo ao Topo! Nossa Escalada da Superação - Convenção de Vendas 2025\n> *   **Texto:** \"Agradecemos a participação de todos na Convenção de Vendas PaperCare 2025! Foi um sucesso, e juntos traçamos um caminho inspirador rumo a um ano de superação e conquistas. Que a energia e o aprendizado desses dias nos impulsionem a alcançar o topo! Em breve, compartilharemos os melhores momentos e os próximos passos.\"\n> *   **Slogan:** Juntos, no nosso papel, construímos o futuro no topo!\n> *   **Hashtags:** #PaperCareNoTopo #Superação2025 #JuntosNoNossoPapel #ConvençãoDeVendas #Gratidão\n> \n"
          },
          "metadata": {}
        },
        {
          "output_type": "stream",
          "name": "stdout",
          "text": [
            "----------------------------------------------------------------\n",
            "\n",
            "--- Resultado da Etapa de Revisão da Comunicação ---\n",
            "\n"
          ]
        },
        {
          "output_type": "display_data",
          "data": {
            "text/plain": [
              "<IPython.core.display.Markdown object>"
            ],
            "text/markdown": "> Aprovado! Podem seguir.\n"
          },
          "metadata": {}
        },
        {
          "output_type": "stream",
          "name": "stdout",
          "text": [
            "----------------------------------------------------------------\n",
            "ASSISTENTE BUSINESS PARTY - IROTSUKA - 17/05/2025\n",
            "#####################################################\n",
            "#    LINKEDIN:https://www.linkedin.com/in/irotsuka/ #\n",
            "#    GITHUB: https://github.com/i-otsuka            #\n",
            "#####################################################\n"
          ]
        }
      ]
    }
  ]
}